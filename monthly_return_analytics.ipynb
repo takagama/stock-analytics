{
 "cells": [
  {
   "cell_type": "markdown",
   "id": "84af46f8",
   "metadata": {},
   "source": [
    "### J-Quants API トークン取得"
   ]
  },
  {
   "cell_type": "code",
   "execution_count": 2,
   "id": "48941dc6",
   "metadata": {
    "tags": []
   },
   "outputs": [],
   "source": [
    "import requests\n",
    "import json\n",
    "#jquantsに登録してメルアドとパスワード入れます\n",
    "data={\"mailaddress\":\"addr\", \"password\":\"pass\"}\n",
    "r_post = requests.post(\"https://api.jquants.com/v1/token/auth_user\", data=json.dumps(data))\n",
    "refreshToken = r_post.json()[\"refreshToken\"]\n",
    "\n",
    "REFRESH_TOKEN = refreshToken\n",
    "r_post = requests.post(f\"https://api.jquants.com/v1/token/auth_refresh?refreshtoken={REFRESH_TOKEN}\")\n",
    "idToken = r_post.json()[\"idToken\"]"
   ]
  },
  {
   "cell_type": "markdown",
   "id": "6aba0dec",
   "metadata": {},
   "source": [
    "### 上場銘柄一覧(/listed/info)から各セクターに属する銘柄を１つ選び日次データを取得\n",
    "サンプルで１個ずつSector17CodeName別で計１７銘柄とした"
   ]
  },
  {
   "cell_type": "code",
   "execution_count": 5,
   "id": "fa0c556b",
   "metadata": {
    "tags": []
   },
   "outputs": [],
   "source": [
    "import requests\n",
    "import json\n",
    "import pandas as pd\n",
    "\n",
    "headers = {'Authorization': 'Bearer {}'.format(idToken)}\n",
    "r = requests.get(\"https://api.jquants.com/v1/listed/info\", headers=headers)\n",
    "df_listed_info = pd.json_normalize(r.json()['info'])"
   ]
  },
  {
   "cell_type": "code",
   "execution_count": 7,
   "id": "42a23d04",
   "metadata": {
    "tags": []
   },
   "outputs": [],
   "source": [
    "import time\n",
    "\n",
    "headers = {'Authorization': 'Bearer {}'.format(idToken)}\n",
    "#分析したい時系列の期間\n",
    "start = \"20210330\"\n",
    "end   = \"20230228\"\n",
    "# 各Sector17CodeNameに属するCodeを1つ選択\n",
    "unique_sectors = df_listed_info[\"Sector17CodeName\"].unique()\n",
    "\n",
    "num_row=0\n",
    "for sector in unique_sectors:\n",
    "    sample_code = df_listed_info[df_listed_info[\"Sector17CodeName\"] == sector][\"Code\"].sample(n=1).values[0]\n",
    "    # APIリクエスト\n",
    "    r = requests.get(f\"https://api.jquants.com/v1/prices/daily_quotes?code={sample_code}&from={start}&to={end}\", headers=headers)\n",
    "    # 取得したデータをDataFrameに変換\n",
    "    df_sample_stock = pd.json_normalize(r.json()['daily_quotes'])\n",
    "    # df_stockにコンカチ\n",
    "    if num_row == 0:\n",
    "        df_stock = df_sample_stock\n",
    "    else:\n",
    "        df_stock = pd.concat([df_stock, df_sample_stock], ignore_index=True)\n",
    "    num_row+=1\n",
    "    #スリープ\n",
    "    time.sleep(1)"
   ]
  },
  {
   "cell_type": "code",
   "execution_count": 34,
   "id": "af0f1c7a",
   "metadata": {
    "tags": []
   },
   "outputs": [],
   "source": [
    "# Codeをキーにして結合\n",
    "merged_df = pd.merge(df_stock, df_listed_info.drop('Date',axis=1), on='Code')\n",
    "merged_df['Date'] = pd.to_datetime(merged_df['Date'])# 月ごとにデータをグループ化し、騰落率を計算\n",
    "#月次収益\n",
    "monthly_returns = merged_df.groupby(['Sector17CodeName', pd.Grouper(key='Date', freq='M')]).apply(lambda x: (x['AdjustmentClose'].iloc[-1] - x['AdjustmentClose'].iloc[0]) / x['AdjustmentClose'].iloc[0] * 100)"
   ]
  },
  {
   "cell_type": "code",
   "execution_count": 35,
   "id": "6465adfb",
   "metadata": {
    "tags": []
   },
   "outputs": [],
   "source": [
    "monthly_returns=monthly_returns.unstack()\n",
    "#並びがいまいちなのでソート\n",
    "monthly_returns = monthly_returns.sort_index(ascending=False)"
   ]
  },
  {
   "cell_type": "markdown",
   "id": "f94e4f89-8f14-4cb1-93d4-1286eb75c155",
   "metadata": {},
   "source": [
    "### 月次収益ヒートマップ"
   ]
  },
  {
   "cell_type": "code",
   "execution_count": 44,
   "id": "6ecf9eab",
   "metadata": {
    "tags": []
   },
   "outputs": [
    {
     "data": {
      "application/vnd.plotly.v1+json": {
       "config": {
        "plotlyServerURL": "https://plot.ly"
       },
       "data": [
        {
         "coloraxis": "coloraxis",
         "hovertemplate": "Date: %{x}<br>Sector17CodeName: %{y}<br>color: %{z}<extra></extra>",
         "name": "0",
         "type": "heatmap",
         "x": [
          "2021-03-31T00:00:00",
          "2021-04-30T00:00:00",
          "2021-05-31T00:00:00",
          "2021-06-30T00:00:00",
          "2021-07-31T00:00:00",
          "2021-08-31T00:00:00",
          "2021-09-30T00:00:00",
          "2021-10-31T00:00:00",
          "2021-11-30T00:00:00",
          "2021-12-31T00:00:00",
          "2022-01-31T00:00:00",
          "2022-02-28T00:00:00",
          "2022-03-31T00:00:00",
          "2022-04-30T00:00:00",
          "2022-05-31T00:00:00",
          "2022-06-30T00:00:00",
          "2022-07-31T00:00:00",
          "2022-08-31T00:00:00",
          "2022-09-30T00:00:00",
          "2022-10-31T00:00:00",
          "2022-11-30T00:00:00",
          "2022-12-31T00:00:00",
          "2023-01-31T00:00:00",
          "2023-02-28T00:00:00"
         ],
         "xaxis": "x",
         "y": [
          "食品",
          "電気・ガス",
          "電機・精密",
          "銀行",
          "鉄鋼・非鉄",
          "金融（除く銀行）",
          "運輸・物流",
          "自動車・輸送機",
          "素材・化学",
          "機械",
          "情報通信・サービスその他",
          "建設・資材",
          "小売",
          "商社・卸売",
          "医薬品",
          "不動産",
          "エネルギー資源",
          "その他"
         ],
         "yaxis": "y",
         "z": [
          [
           -2.08,
           -0.29,
           3.45,
           7.46,
           2.05,
           12.81,
           2.68,
           2.87,
           -15.23,
           7.37,
           -0.76,
           4.25,
           -2.73,
           1.91,
           -4.84,
           4.36,
           3.17,
           -1.04,
           2.03,
           8.71,
           -5.88,
           9.48,
           2.28,
           7.67
          ],
          [
           0.92,
           -6.45,
           -3.71,
           1.94,
           29.95,
           -29.23,
           0.94,
           -6.52,
           -21.65,
           -5.36,
           -16.16,
           3.97,
           2.96,
           -4.7,
           -4.32,
           2.05,
           3.35,
           24.77,
           -2.89,
           2.23,
           -13.02,
           -10.22,
           9.77,
           19.25
          ],
          [
           0.26,
           -10.94,
           47.02,
           3.57,
           -1.06,
           -15.32,
           -1.28,
           0.99,
           -15.64,
           -1.27,
           -10.63,
           11.38,
           3.39,
           -1.46,
           -0.76,
           -9.39,
           6.65,
           6.12,
           3.27,
           -1.11,
           -3.96,
           -18.74,
           6.68,
           31.15
          ],
          [
           null,
           null,
           null,
           null,
           null,
           null,
           null,
           null,
           null,
           null,
           null,
           null,
           null,
           null,
           null,
           null,
           null,
           null,
           null,
           1.9,
           6.89,
           3.77,
           0,
           13.11
          ],
          [
           -0.91,
           2.48,
           -3.82,
           -0.37,
           13.07,
           -4.82,
           0,
           7.95,
           1.39,
           11.45,
           3.99,
           2.06,
           1.24,
           -3.57,
           2.94,
           -6.65,
           4.45,
           7.07,
           -8.91,
           1.81,
           9.45,
           -2.17,
           19.35,
           3.07
          ],
          [
           null,
           null,
           null,
           null,
           -22.83,
           -7.89,
           -14.65,
           -4.62,
           -2.44,
           -11.46,
           -16.48,
           -23.19,
           20.99,
           -13.6,
           12.46,
           -6.23,
           -2.67,
           -1.89,
           -10.58,
           -1.61,
           null,
           -4.2,
           -2.47,
           3.61
          ],
          [
           -1.75,
           -1.36,
           -1.37,
           1.32,
           -0.44,
           0,
           2.69,
           -3.66,
           -8.97,
           11.38,
           -7.69,
           7.25,
           5.84,
           -1.73,
           2.16,
           -4.11,
           3.62,
           3.82,
           -2.3,
           -0.93,
           9.24,
           -5.13,
           4.36,
           5.07
          ],
          [
           -1.31,
           -0.78,
           2.98,
           -8.9,
           -0.26,
           2.99,
           -0.97,
           -2.81,
           -10.87,
           7.45,
           -5.65,
           -1.36,
           -5.19,
           -5.75,
           4.31,
           2.13,
           2.84,
           -6.03,
           -3.01,
           3.98,
           -0.51,
           6.26,
           3.84,
           -0.88
          ],
          [
           -2,
           -2.52,
           3.99,
           5.17,
           -0.68,
           3.28,
           6.01,
           -5.56,
           -7.88,
           -5.57,
           4.8,
           -7.13,
           -0.04,
           -2.32,
           -3.63,
           -6.05,
           2.24,
           -2.77,
           -8.43,
           0.49,
           7.85,
           -6.5,
           8.29,
           9.42
          ],
          [
           1.62,
           -2.04,
           4.96,
           -2.9,
           -4.65,
           -8.68,
           1.79,
           3.04,
           -16.62,
           6.37,
           -5.75,
           -30,
           1.04,
           -2.9,
           3.1,
           -8.68,
           4.55,
           20.47,
           -2.34,
           6.93,
           -15.44,
           -1.45,
           15.53,
           -2.49
          ],
          [
           0.28,
           2.27,
           3.71,
           -4.2,
           -2.06,
           -4.43,
           -0.29,
           0.7,
           2.5,
           7.82,
           -3.43,
           -0.19,
           -0.97,
           null,
           1,
           -0.7,
           1.11,
           null,
           -4.62,
           1.38,
           -0.31,
           -4.41,
           2.54,
           2.17
          ],
          [
           -0.48,
           -3.23,
           null,
           5.32,
           null,
           null,
           -1.25,
           null,
           null,
           null,
           null,
           null,
           null,
           -6.21,
           null,
           null,
           null,
           null,
           0.15,
           null,
           null,
           -4.81,
           null,
           7.16
          ],
          [
           -2.06,
           -6.61,
           -5.65,
           -2.72,
           0.37,
           4.13,
           0.34,
           -1.58,
           -6.74,
           3.68,
           -5.28,
           2.43,
           1.12,
           0,
           -5.24,
           -3.18,
           7.42,
           0.18,
           -0.92,
           7.56,
           2.14,
           0.35,
           0.54,
           -3.59
          ],
          [
           0.15,
           -9.99,
           1.82,
           -0.32,
           6.82,
           -5.23,
           6.8,
           -3.33,
           -7.94,
           8.31,
           -7.24,
           -1.02,
           1.9,
           -1.87,
           -1.72,
           -1.57,
           0.53,
           -0.7,
           -8.72,
           5.13,
           19.55,
           2.83,
           12.92,
           11.25
          ],
          [
           0.35,
           22.01,
           41.08,
           17.33,
           -12.23,
           -46.16,
           -8.55,
           3.79,
           27.22,
           -7.88,
           -13.13,
           -23.51,
           -0.63,
           -10.68,
           10.43,
           -3,
           -2.17,
           4.72,
           1.12,
           -2.11,
           0.57,
           -8.01,
           1.28,
           -25.43
          ],
          [
           2.27,
           -8.22,
           0.56,
           -5.83,
           -3.18,
           8.97,
           2.78,
           -8.33,
           -3.35,
           4.21,
           -3.68,
           2.9,
           2.32,
           -9.72,
           2.19,
           -2.93,
           4.34,
           -1.05,
           -2.74,
           -3.87,
           -0.78,
           1.5,
           3.68,
           6.42
          ],
          [
           0,
           5.88,
           -2.27,
           -2.33,
           3.17,
           3.85,
           11.94,
           4.67,
           -13.7,
           11.11,
           0,
           9.92,
           12.67,
           11.59,
           15.08,
           -10.45,
           22.03,
           20.19,
           -17.13,
           5.03,
           22.71,
           53.52,
           1.94,
           -6.91
          ],
          [
           -0.98,
           -4,
           0.06,
           0.5,
           -2.56,
           0.39,
           3.7,
           0,
           -5.05,
           2.95,
           -6.29,
           -2.05,
           4.56,
           -1.73,
           0.51,
           -3.41,
           5.31,
           -0.77,
           -4.18,
           4.32,
           2.74,
           -4.93,
           5.72,
           0.16
          ]
         ]
        }
       ],
       "layout": {
        "autosize": true,
        "coloraxis": {
         "cmid": 0,
         "colorscale": [
          [
           0,
           "rgb(5,48,97)"
          ],
          [
           0.1,
           "rgb(33,102,172)"
          ],
          [
           0.2,
           "rgb(67,147,195)"
          ],
          [
           0.3,
           "rgb(146,197,222)"
          ],
          [
           0.4,
           "rgb(209,229,240)"
          ],
          [
           0.5,
           "rgb(247,247,247)"
          ],
          [
           0.6,
           "rgb(253,219,199)"
          ],
          [
           0.7,
           "rgb(244,165,130)"
          ],
          [
           0.8,
           "rgb(214,96,77)"
          ],
          [
           0.9,
           "rgb(178,24,43)"
          ],
          [
           1,
           "rgb(103,0,31)"
          ]
         ]
        },
        "margin": {
         "b": 0,
         "l": 20,
         "r": 20,
         "t": 0
        },
        "template": {
         "data": {
          "bar": [
           {
            "error_x": {
             "color": "#2a3f5f"
            },
            "error_y": {
             "color": "#2a3f5f"
            },
            "marker": {
             "line": {
              "color": "#E5ECF6",
              "width": 0.5
             },
             "pattern": {
              "fillmode": "overlay",
              "size": 10,
              "solidity": 0.2
             }
            },
            "type": "bar"
           }
          ],
          "barpolar": [
           {
            "marker": {
             "line": {
              "color": "#E5ECF6",
              "width": 0.5
             },
             "pattern": {
              "fillmode": "overlay",
              "size": 10,
              "solidity": 0.2
             }
            },
            "type": "barpolar"
           }
          ],
          "carpet": [
           {
            "aaxis": {
             "endlinecolor": "#2a3f5f",
             "gridcolor": "white",
             "linecolor": "white",
             "minorgridcolor": "white",
             "startlinecolor": "#2a3f5f"
            },
            "baxis": {
             "endlinecolor": "#2a3f5f",
             "gridcolor": "white",
             "linecolor": "white",
             "minorgridcolor": "white",
             "startlinecolor": "#2a3f5f"
            },
            "type": "carpet"
           }
          ],
          "choropleth": [
           {
            "colorbar": {
             "outlinewidth": 0,
             "ticks": ""
            },
            "type": "choropleth"
           }
          ],
          "contour": [
           {
            "colorbar": {
             "outlinewidth": 0,
             "ticks": ""
            },
            "colorscale": [
             [
              0,
              "#0d0887"
             ],
             [
              0.1111111111111111,
              "#46039f"
             ],
             [
              0.2222222222222222,
              "#7201a8"
             ],
             [
              0.3333333333333333,
              "#9c179e"
             ],
             [
              0.4444444444444444,
              "#bd3786"
             ],
             [
              0.5555555555555556,
              "#d8576b"
             ],
             [
              0.6666666666666666,
              "#ed7953"
             ],
             [
              0.7777777777777778,
              "#fb9f3a"
             ],
             [
              0.8888888888888888,
              "#fdca26"
             ],
             [
              1,
              "#f0f921"
             ]
            ],
            "type": "contour"
           }
          ],
          "contourcarpet": [
           {
            "colorbar": {
             "outlinewidth": 0,
             "ticks": ""
            },
            "type": "contourcarpet"
           }
          ],
          "heatmap": [
           {
            "colorbar": {
             "outlinewidth": 0,
             "ticks": ""
            },
            "colorscale": [
             [
              0,
              "#0d0887"
             ],
             [
              0.1111111111111111,
              "#46039f"
             ],
             [
              0.2222222222222222,
              "#7201a8"
             ],
             [
              0.3333333333333333,
              "#9c179e"
             ],
             [
              0.4444444444444444,
              "#bd3786"
             ],
             [
              0.5555555555555556,
              "#d8576b"
             ],
             [
              0.6666666666666666,
              "#ed7953"
             ],
             [
              0.7777777777777778,
              "#fb9f3a"
             ],
             [
              0.8888888888888888,
              "#fdca26"
             ],
             [
              1,
              "#f0f921"
             ]
            ],
            "type": "heatmap"
           }
          ],
          "heatmapgl": [
           {
            "colorbar": {
             "outlinewidth": 0,
             "ticks": ""
            },
            "colorscale": [
             [
              0,
              "#0d0887"
             ],
             [
              0.1111111111111111,
              "#46039f"
             ],
             [
              0.2222222222222222,
              "#7201a8"
             ],
             [
              0.3333333333333333,
              "#9c179e"
             ],
             [
              0.4444444444444444,
              "#bd3786"
             ],
             [
              0.5555555555555556,
              "#d8576b"
             ],
             [
              0.6666666666666666,
              "#ed7953"
             ],
             [
              0.7777777777777778,
              "#fb9f3a"
             ],
             [
              0.8888888888888888,
              "#fdca26"
             ],
             [
              1,
              "#f0f921"
             ]
            ],
            "type": "heatmapgl"
           }
          ],
          "histogram": [
           {
            "marker": {
             "pattern": {
              "fillmode": "overlay",
              "size": 10,
              "solidity": 0.2
             }
            },
            "type": "histogram"
           }
          ],
          "histogram2d": [
           {
            "colorbar": {
             "outlinewidth": 0,
             "ticks": ""
            },
            "colorscale": [
             [
              0,
              "#0d0887"
             ],
             [
              0.1111111111111111,
              "#46039f"
             ],
             [
              0.2222222222222222,
              "#7201a8"
             ],
             [
              0.3333333333333333,
              "#9c179e"
             ],
             [
              0.4444444444444444,
              "#bd3786"
             ],
             [
              0.5555555555555556,
              "#d8576b"
             ],
             [
              0.6666666666666666,
              "#ed7953"
             ],
             [
              0.7777777777777778,
              "#fb9f3a"
             ],
             [
              0.8888888888888888,
              "#fdca26"
             ],
             [
              1,
              "#f0f921"
             ]
            ],
            "type": "histogram2d"
           }
          ],
          "histogram2dcontour": [
           {
            "colorbar": {
             "outlinewidth": 0,
             "ticks": ""
            },
            "colorscale": [
             [
              0,
              "#0d0887"
             ],
             [
              0.1111111111111111,
              "#46039f"
             ],
             [
              0.2222222222222222,
              "#7201a8"
             ],
             [
              0.3333333333333333,
              "#9c179e"
             ],
             [
              0.4444444444444444,
              "#bd3786"
             ],
             [
              0.5555555555555556,
              "#d8576b"
             ],
             [
              0.6666666666666666,
              "#ed7953"
             ],
             [
              0.7777777777777778,
              "#fb9f3a"
             ],
             [
              0.8888888888888888,
              "#fdca26"
             ],
             [
              1,
              "#f0f921"
             ]
            ],
            "type": "histogram2dcontour"
           }
          ],
          "mesh3d": [
           {
            "colorbar": {
             "outlinewidth": 0,
             "ticks": ""
            },
            "type": "mesh3d"
           }
          ],
          "parcoords": [
           {
            "line": {
             "colorbar": {
              "outlinewidth": 0,
              "ticks": ""
             }
            },
            "type": "parcoords"
           }
          ],
          "pie": [
           {
            "automargin": true,
            "type": "pie"
           }
          ],
          "scatter": [
           {
            "fillpattern": {
             "fillmode": "overlay",
             "size": 10,
             "solidity": 0.2
            },
            "type": "scatter"
           }
          ],
          "scatter3d": [
           {
            "line": {
             "colorbar": {
              "outlinewidth": 0,
              "ticks": ""
             }
            },
            "marker": {
             "colorbar": {
              "outlinewidth": 0,
              "ticks": ""
             }
            },
            "type": "scatter3d"
           }
          ],
          "scattercarpet": [
           {
            "marker": {
             "colorbar": {
              "outlinewidth": 0,
              "ticks": ""
             }
            },
            "type": "scattercarpet"
           }
          ],
          "scattergeo": [
           {
            "marker": {
             "colorbar": {
              "outlinewidth": 0,
              "ticks": ""
             }
            },
            "type": "scattergeo"
           }
          ],
          "scattergl": [
           {
            "marker": {
             "colorbar": {
              "outlinewidth": 0,
              "ticks": ""
             }
            },
            "type": "scattergl"
           }
          ],
          "scattermapbox": [
           {
            "marker": {
             "colorbar": {
              "outlinewidth": 0,
              "ticks": ""
             }
            },
            "type": "scattermapbox"
           }
          ],
          "scatterpolar": [
           {
            "marker": {
             "colorbar": {
              "outlinewidth": 0,
              "ticks": ""
             }
            },
            "type": "scatterpolar"
           }
          ],
          "scatterpolargl": [
           {
            "marker": {
             "colorbar": {
              "outlinewidth": 0,
              "ticks": ""
             }
            },
            "type": "scatterpolargl"
           }
          ],
          "scatterternary": [
           {
            "marker": {
             "colorbar": {
              "outlinewidth": 0,
              "ticks": ""
             }
            },
            "type": "scatterternary"
           }
          ],
          "surface": [
           {
            "colorbar": {
             "outlinewidth": 0,
             "ticks": ""
            },
            "colorscale": [
             [
              0,
              "#0d0887"
             ],
             [
              0.1111111111111111,
              "#46039f"
             ],
             [
              0.2222222222222222,
              "#7201a8"
             ],
             [
              0.3333333333333333,
              "#9c179e"
             ],
             [
              0.4444444444444444,
              "#bd3786"
             ],
             [
              0.5555555555555556,
              "#d8576b"
             ],
             [
              0.6666666666666666,
              "#ed7953"
             ],
             [
              0.7777777777777778,
              "#fb9f3a"
             ],
             [
              0.8888888888888888,
              "#fdca26"
             ],
             [
              1,
              "#f0f921"
             ]
            ],
            "type": "surface"
           }
          ],
          "table": [
           {
            "cells": {
             "fill": {
              "color": "#EBF0F8"
             },
             "line": {
              "color": "white"
             }
            },
            "header": {
             "fill": {
              "color": "#C8D4E3"
             },
             "line": {
              "color": "white"
             }
            },
            "type": "table"
           }
          ]
         },
         "layout": {
          "annotationdefaults": {
           "arrowcolor": "#2a3f5f",
           "arrowhead": 0,
           "arrowwidth": 1
          },
          "autotypenumbers": "strict",
          "coloraxis": {
           "colorbar": {
            "outlinewidth": 0,
            "ticks": ""
           }
          },
          "colorscale": {
           "diverging": [
            [
             0,
             "#8e0152"
            ],
            [
             0.1,
             "#c51b7d"
            ],
            [
             0.2,
             "#de77ae"
            ],
            [
             0.3,
             "#f1b6da"
            ],
            [
             0.4,
             "#fde0ef"
            ],
            [
             0.5,
             "#f7f7f7"
            ],
            [
             0.6,
             "#e6f5d0"
            ],
            [
             0.7,
             "#b8e186"
            ],
            [
             0.8,
             "#7fbc41"
            ],
            [
             0.9,
             "#4d9221"
            ],
            [
             1,
             "#276419"
            ]
           ],
           "sequential": [
            [
             0,
             "#0d0887"
            ],
            [
             0.1111111111111111,
             "#46039f"
            ],
            [
             0.2222222222222222,
             "#7201a8"
            ],
            [
             0.3333333333333333,
             "#9c179e"
            ],
            [
             0.4444444444444444,
             "#bd3786"
            ],
            [
             0.5555555555555556,
             "#d8576b"
            ],
            [
             0.6666666666666666,
             "#ed7953"
            ],
            [
             0.7777777777777778,
             "#fb9f3a"
            ],
            [
             0.8888888888888888,
             "#fdca26"
            ],
            [
             1,
             "#f0f921"
            ]
           ],
           "sequentialminus": [
            [
             0,
             "#0d0887"
            ],
            [
             0.1111111111111111,
             "#46039f"
            ],
            [
             0.2222222222222222,
             "#7201a8"
            ],
            [
             0.3333333333333333,
             "#9c179e"
            ],
            [
             0.4444444444444444,
             "#bd3786"
            ],
            [
             0.5555555555555556,
             "#d8576b"
            ],
            [
             0.6666666666666666,
             "#ed7953"
            ],
            [
             0.7777777777777778,
             "#fb9f3a"
            ],
            [
             0.8888888888888888,
             "#fdca26"
            ],
            [
             1,
             "#f0f921"
            ]
           ]
          },
          "colorway": [
           "#636efa",
           "#EF553B",
           "#00cc96",
           "#ab63fa",
           "#FFA15A",
           "#19d3f3",
           "#FF6692",
           "#B6E880",
           "#FF97FF",
           "#FECB52"
          ],
          "font": {
           "color": "#2a3f5f"
          },
          "geo": {
           "bgcolor": "white",
           "lakecolor": "white",
           "landcolor": "#E5ECF6",
           "showlakes": true,
           "showland": true,
           "subunitcolor": "white"
          },
          "hoverlabel": {
           "align": "left"
          },
          "hovermode": "closest",
          "mapbox": {
           "style": "light"
          },
          "paper_bgcolor": "white",
          "plot_bgcolor": "#E5ECF6",
          "polar": {
           "angularaxis": {
            "gridcolor": "white",
            "linecolor": "white",
            "ticks": ""
           },
           "bgcolor": "#E5ECF6",
           "radialaxis": {
            "gridcolor": "white",
            "linecolor": "white",
            "ticks": ""
           }
          },
          "scene": {
           "xaxis": {
            "backgroundcolor": "#E5ECF6",
            "gridcolor": "white",
            "gridwidth": 2,
            "linecolor": "white",
            "showbackground": true,
            "ticks": "",
            "zerolinecolor": "white"
           },
           "yaxis": {
            "backgroundcolor": "#E5ECF6",
            "gridcolor": "white",
            "gridwidth": 2,
            "linecolor": "white",
            "showbackground": true,
            "ticks": "",
            "zerolinecolor": "white"
           },
           "zaxis": {
            "backgroundcolor": "#E5ECF6",
            "gridcolor": "white",
            "gridwidth": 2,
            "linecolor": "white",
            "showbackground": true,
            "ticks": "",
            "zerolinecolor": "white"
           }
          },
          "shapedefaults": {
           "line": {
            "color": "#2a3f5f"
           }
          },
          "ternary": {
           "aaxis": {
            "gridcolor": "white",
            "linecolor": "white",
            "ticks": ""
           },
           "baxis": {
            "gridcolor": "white",
            "linecolor": "white",
            "ticks": ""
           },
           "bgcolor": "#E5ECF6",
           "caxis": {
            "gridcolor": "white",
            "linecolor": "white",
            "ticks": ""
           }
          },
          "title": {
           "x": 0.05
          },
          "xaxis": {
           "automargin": true,
           "gridcolor": "white",
           "linecolor": "white",
           "ticks": "",
           "title": {
            "standoff": 15
           },
           "zerolinecolor": "white",
           "zerolinewidth": 2
          },
          "yaxis": {
           "automargin": true,
           "gridcolor": "white",
           "linecolor": "white",
           "ticks": "",
           "title": {
            "standoff": 15
           },
           "zerolinecolor": "white",
           "zerolinewidth": 2
          }
         }
        },
        "xaxis": {
         "anchor": "y",
         "autorange": true,
         "constrain": "domain",
         "domain": [
          0,
          1
         ],
         "range": [
          "2021-03-16",
          "2023-03-14"
         ],
         "scaleanchor": "y",
         "title": {
          "text": "Date"
         },
         "type": "date"
        },
        "yaxis": {
         "anchor": "x",
         "autorange": true,
         "constrain": "domain",
         "domain": [
          0,
          1
         ],
         "range": [
          17.5,
          -0.5
         ],
         "title": {
          "text": "Sector17CodeName"
         },
         "type": "category"
        }
       }
      },
      "image/png": "[encoded data removed]",
      "text/html": [
       "<div>                            <div id=\"9db5851e-02ab-459d-8209-be6448a1837c\" class=\"plotly-graph-div\" style=\"height:525px; width:1000px;\"></div>            <script type=\"text/javascript\">                require([\"plotly\"], function(Plotly) {                    window.PLOTLYENV=window.PLOTLYENV || {};                                    if (document.getElementById(\"9db5851e-02ab-459d-8209-be6448a1837c\")) {                    Plotly.newPlot(                        \"9db5851e-02ab-459d-8209-be6448a1837c\",                        [{\"coloraxis\":\"coloraxis\",\"name\":\"0\",\"x\":[\"2021-03-31T00:00:00\",\"2021-04-30T00:00:00\",\"2021-05-31T00:00:00\",\"2021-06-30T00:00:00\",\"2021-07-31T00:00:00\",\"2021-08-31T00:00:00\",\"2021-09-30T00:00:00\",\"2021-10-31T00:00:00\",\"2021-11-30T00:00:00\",\"2021-12-31T00:00:00\",\"2022-01-31T00:00:00\",\"2022-02-28T00:00:00\",\"2022-03-31T00:00:00\",\"2022-04-30T00:00:00\",\"2022-05-31T00:00:00\",\"2022-06-30T00:00:00\",\"2022-07-31T00:00:00\",\"2022-08-31T00:00:00\",\"2022-09-30T00:00:00\",\"2022-10-31T00:00:00\",\"2022-11-30T00:00:00\",\"2022-12-31T00:00:00\",\"2023-01-31T00:00:00\",\"2023-02-28T00:00:00\"],\"y\":[\"\\u98df\\u54c1\",\"\\u96fb\\u6c17\\u30fb\\u30ac\\u30b9\",\"\\u96fb\\u6a5f\\u30fb\\u7cbe\\u5bc6\",\"\\u9280\\u884c\",\"\\u9244\\u92fc\\u30fb\\u975e\\u9244\",\"\\u91d1\\u878d\\uff08\\u9664\\u304f\\u9280\\u884c\\uff09\",\"\\u904b\\u8f38\\u30fb\\u7269\\u6d41\",\"\\u81ea\\u52d5\\u8eca\\u30fb\\u8f38\\u9001\\u6a5f\",\"\\u7d20\\u6750\\u30fb\\u5316\\u5b66\",\"\\u6a5f\\u68b0\",\"\\u60c5\\u5831\\u901a\\u4fe1\\u30fb\\u30b5\\u30fc\\u30d3\\u30b9\\u305d\\u306e\\u4ed6\",\"\\u5efa\\u8a2d\\u30fb\\u8cc7\\u6750\",\"\\u5c0f\\u58f2\",\"\\u5546\\u793e\\u30fb\\u5378\\u58f2\",\"\\u533b\\u85ac\\u54c1\",\"\\u4e0d\\u52d5\\u7523\",\"\\u30a8\\u30cd\\u30eb\\u30ae\\u30fc\\u8cc7\\u6e90\",\"\\u305d\\u306e\\u4ed6\"],\"z\":[[-2.08,-0.29,3.45,7.46,2.05,12.81,2.68,2.87,-15.23,7.37,-0.76,4.25,-2.73,1.91,-4.84,4.36,3.17,-1.04,2.03,8.71,-5.88,9.48,2.28,7.67],[0.92,-6.45,-3.71,1.94,29.95,-29.23,0.94,-6.52,-21.65,-5.36,-16.16,3.97,2.96,-4.7,-4.32,2.05,3.35,24.77,-2.89,2.23,-13.02,-10.22,9.77,19.25],[0.26,-10.94,47.02,3.57,-1.06,-15.32,-1.28,0.99,-15.64,-1.27,-10.63,11.38,3.39,-1.46,-0.76,-9.39,6.65,6.12,3.27,-1.11,-3.96,-18.74,6.68,31.15],[null,null,null,null,null,null,null,null,null,null,null,null,null,null,null,null,null,null,null,1.9,6.89,3.77,0.0,13.11],[-0.91,2.48,-3.82,-0.37,13.07,-4.82,0.0,7.95,1.39,11.45,3.99,2.06,1.24,-3.57,2.94,-6.65,4.45,7.07,-8.91,1.81,9.45,-2.17,19.35,3.07],[null,null,null,null,-22.83,-7.89,-14.65,-4.62,-2.44,-11.46,-16.48,-23.19,20.99,-13.6,12.46,-6.23,-2.67,-1.89,-10.58,-1.61,null,-4.2,-2.47,3.61],[-1.75,-1.36,-1.37,1.32,-0.44,0.0,2.69,-3.66,-8.97,11.38,-7.69,7.25,5.84,-1.73,2.16,-4.11,3.62,3.82,-2.3,-0.93,9.24,-5.13,4.36,5.07],[-1.31,-0.78,2.98,-8.9,-0.26,2.99,-0.97,-2.81,-10.87,7.45,-5.65,-1.36,-5.19,-5.75,4.31,2.13,2.84,-6.03,-3.01,3.98,-0.51,6.26,3.84,-0.88],[-2.0,-2.52,3.99,5.17,-0.68,3.28,6.01,-5.56,-7.88,-5.57,4.8,-7.13,-0.04,-2.32,-3.63,-6.05,2.24,-2.77,-8.43,0.49,7.85,-6.5,8.29,9.42],[1.62,-2.04,4.96,-2.9,-4.65,-8.68,1.79,3.04,-16.62,6.37,-5.75,-30.0,1.04,-2.9,3.1,-8.68,4.55,20.47,-2.34,6.93,-15.44,-1.45,15.53,-2.49],[0.28,2.27,3.71,-4.2,-2.06,-4.43,-0.29,0.7,2.5,7.82,-3.43,-0.19,-0.97,null,1.0,-0.7,1.11,null,-4.62,1.38,-0.31,-4.41,2.54,2.17],[-0.48,-3.23,null,5.32,null,null,-1.25,null,null,null,null,null,null,-6.21,null,null,null,null,0.15,null,null,-4.81,null,7.16],[-2.06,-6.61,-5.65,-2.72,0.37,4.13,0.34,-1.58,-6.74,3.68,-5.28,2.43,1.12,0.0,-5.24,-3.18,7.42,0.18,-0.92,7.56,2.14,0.35,0.54,-3.59],[0.15,-9.99,1.82,-0.32,6.82,-5.23,6.8,-3.33,-7.94,8.31,-7.24,-1.02,1.9,-1.87,-1.72,-1.57,0.53,-0.7,-8.72,5.13,19.55,2.83,12.92,11.25],[0.35,22.01,41.08,17.33,-12.23,-46.16,-8.55,3.79,27.22,-7.88,-13.13,-23.51,-0.63,-10.68,10.43,-3.0,-2.17,4.72,1.12,-2.11,0.57,-8.01,1.28,-25.43],[2.27,-8.22,0.56,-5.83,-3.18,8.97,2.78,-8.33,-3.35,4.21,-3.68,2.9,2.32,-9.72,2.19,-2.93,4.34,-1.05,-2.74,-3.87,-0.78,1.5,3.68,6.42],[0.0,5.88,-2.27,-2.33,3.17,3.85,11.94,4.67,-13.7,11.11,0.0,9.92,12.67,11.59,15.08,-10.45,22.03,20.19,-17.13,5.03,22.71,53.52,1.94,-6.91],[-0.98,-4.0,0.06,0.5,-2.56,0.39,3.7,0.0,-5.05,2.95,-6.29,-2.05,4.56,-1.73,0.51,-3.41,5.31,-0.77,-4.18,4.32,2.74,-4.93,5.72,0.16]],\"type\":\"heatmap\",\"xaxis\":\"x\",\"yaxis\":\"y\",\"hovertemplate\":\"Date: %{x}<br>Sector17CodeName: %{y}<br>color: %{z}<extra></extra>\"}],                        {\"template\":{\"data\":{\"histogram2dcontour\":[{\"type\":\"histogram2dcontour\",\"colorbar\":{\"outlinewidth\":0,\"ticks\":\"\"},\"colorscale\":[[0.0,\"#0d0887\"],[0.1111111111111111,\"#46039f\"],[0.2222222222222222,\"#7201a8\"],[0.3333333333333333,\"#9c179e\"],[0.4444444444444444,\"#bd3786\"],[0.5555555555555556,\"#d8576b\"],[0.6666666666666666,\"#ed7953\"],[0.7777777777777778,\"#fb9f3a\"],[0.8888888888888888,\"#fdca26\"],[1.0,\"#f0f921\"]]}],\"choropleth\":[{\"type\":\"choropleth\",\"colorbar\":{\"outlinewidth\":0,\"ticks\":\"\"}}],\"histogram2d\":[{\"type\":\"histogram2d\",\"colorbar\":{\"outlinewidth\":0,\"ticks\":\"\"},\"colorscale\":[[0.0,\"#0d0887\"],[0.1111111111111111,\"#46039f\"],[0.2222222222222222,\"#7201a8\"],[0.3333333333333333,\"#9c179e\"],[0.4444444444444444,\"#bd3786\"],[0.5555555555555556,\"#d8576b\"],[0.6666666666666666,\"#ed7953\"],[0.7777777777777778,\"#fb9f3a\"],[0.8888888888888888,\"#fdca26\"],[1.0,\"#f0f921\"]]}],\"heatmap\":[{\"type\":\"heatmap\",\"colorbar\":{\"outlinewidth\":0,\"ticks\":\"\"},\"colorscale\":[[0.0,\"#0d0887\"],[0.1111111111111111,\"#46039f\"],[0.2222222222222222,\"#7201a8\"],[0.3333333333333333,\"#9c179e\"],[0.4444444444444444,\"#bd3786\"],[0.5555555555555556,\"#d8576b\"],[0.6666666666666666,\"#ed7953\"],[0.7777777777777778,\"#fb9f3a\"],[0.8888888888888888,\"#fdca26\"],[1.0,\"#f0f921\"]]}],\"heatmapgl\":[{\"type\":\"heatmapgl\",\"colorbar\":{\"outlinewidth\":0,\"ticks\":\"\"},\"colorscale\":[[0.0,\"#0d0887\"],[0.1111111111111111,\"#46039f\"],[0.2222222222222222,\"#7201a8\"],[0.3333333333333333,\"#9c179e\"],[0.4444444444444444,\"#bd3786\"],[0.5555555555555556,\"#d8576b\"],[0.6666666666666666,\"#ed7953\"],[0.7777777777777778,\"#fb9f3a\"],[0.8888888888888888,\"#fdca26\"],[1.0,\"#f0f921\"]]}],\"contourcarpet\":[{\"type\":\"contourcarpet\",\"colorbar\":{\"outlinewidth\":0,\"ticks\":\"\"}}],\"contour\":[{\"type\":\"contour\",\"colorbar\":{\"outlinewidth\":0,\"ticks\":\"\"},\"colorscale\":[[0.0,\"#0d0887\"],[0.1111111111111111,\"#46039f\"],[0.2222222222222222,\"#7201a8\"],[0.3333333333333333,\"#9c179e\"],[0.4444444444444444,\"#bd3786\"],[0.5555555555555556,\"#d8576b\"],[0.6666666666666666,\"#ed7953\"],[0.7777777777777778,\"#fb9f3a\"],[0.8888888888888888,\"#fdca26\"],[1.0,\"#f0f921\"]]}],\"surface\":[{\"type\":\"surface\",\"colorbar\":{\"outlinewidth\":0,\"ticks\":\"\"},\"colorscale\":[[0.0,\"#0d0887\"],[0.1111111111111111,\"#46039f\"],[0.2222222222222222,\"#7201a8\"],[0.3333333333333333,\"#9c179e\"],[0.4444444444444444,\"#bd3786\"],[0.5555555555555556,\"#d8576b\"],[0.6666666666666666,\"#ed7953\"],[0.7777777777777778,\"#fb9f3a\"],[0.8888888888888888,\"#fdca26\"],[1.0,\"#f0f921\"]]}],\"mesh3d\":[{\"type\":\"mesh3d\",\"colorbar\":{\"outlinewidth\":0,\"ticks\":\"\"}}],\"scatter\":[{\"fillpattern\":{\"fillmode\":\"overlay\",\"size\":10,\"solidity\":0.2},\"type\":\"scatter\"}],\"parcoords\":[{\"type\":\"parcoords\",\"line\":{\"colorbar\":{\"outlinewidth\":0,\"ticks\":\"\"}}}],\"scatterpolargl\":[{\"type\":\"scatterpolargl\",\"marker\":{\"colorbar\":{\"outlinewidth\":0,\"ticks\":\"\"}}}],\"bar\":[{\"error_x\":{\"color\":\"#2a3f5f\"},\"error_y\":{\"color\":\"#2a3f5f\"},\"marker\":{\"line\":{\"color\":\"#E5ECF6\",\"width\":0.5},\"pattern\":{\"fillmode\":\"overlay\",\"size\":10,\"solidity\":0.2}},\"type\":\"bar\"}],\"scattergeo\":[{\"type\":\"scattergeo\",\"marker\":{\"colorbar\":{\"outlinewidth\":0,\"ticks\":\"\"}}}],\"scatterpolar\":[{\"type\":\"scatterpolar\",\"marker\":{\"colorbar\":{\"outlinewidth\":0,\"ticks\":\"\"}}}],\"histogram\":[{\"marker\":{\"pattern\":{\"fillmode\":\"overlay\",\"size\":10,\"solidity\":0.2}},\"type\":\"histogram\"}],\"scattergl\":[{\"type\":\"scattergl\",\"marker\":{\"colorbar\":{\"outlinewidth\":0,\"ticks\":\"\"}}}],\"scatter3d\":[{\"type\":\"scatter3d\",\"line\":{\"colorbar\":{\"outlinewidth\":0,\"ticks\":\"\"}},\"marker\":{\"colorbar\":{\"outlinewidth\":0,\"ticks\":\"\"}}}],\"scattermapbox\":[{\"type\":\"scattermapbox\",\"marker\":{\"colorbar\":{\"outlinewidth\":0,\"ticks\":\"\"}}}],\"scatterternary\":[{\"type\":\"scatterternary\",\"marker\":{\"colorbar\":{\"outlinewidth\":0,\"ticks\":\"\"}}}],\"scattercarpet\":[{\"type\":\"scattercarpet\",\"marker\":{\"colorbar\":{\"outlinewidth\":0,\"ticks\":\"\"}}}],\"carpet\":[{\"aaxis\":{\"endlinecolor\":\"#2a3f5f\",\"gridcolor\":\"white\",\"linecolor\":\"white\",\"minorgridcolor\":\"white\",\"startlinecolor\":\"#2a3f5f\"},\"baxis\":{\"endlinecolor\":\"#2a3f5f\",\"gridcolor\":\"white\",\"linecolor\":\"white\",\"minorgridcolor\":\"white\",\"startlinecolor\":\"#2a3f5f\"},\"type\":\"carpet\"}],\"table\":[{\"cells\":{\"fill\":{\"color\":\"#EBF0F8\"},\"line\":{\"color\":\"white\"}},\"header\":{\"fill\":{\"color\":\"#C8D4E3\"},\"line\":{\"color\":\"white\"}},\"type\":\"table\"}],\"barpolar\":[{\"marker\":{\"line\":{\"color\":\"#E5ECF6\",\"width\":0.5},\"pattern\":{\"fillmode\":\"overlay\",\"size\":10,\"solidity\":0.2}},\"type\":\"barpolar\"}],\"pie\":[{\"automargin\":true,\"type\":\"pie\"}]},\"layout\":{\"autotypenumbers\":\"strict\",\"colorway\":[\"#636efa\",\"#EF553B\",\"#00cc96\",\"#ab63fa\",\"#FFA15A\",\"#19d3f3\",\"#FF6692\",\"#B6E880\",\"#FF97FF\",\"#FECB52\"],\"font\":{\"color\":\"#2a3f5f\"},\"hovermode\":\"closest\",\"hoverlabel\":{\"align\":\"left\"},\"paper_bgcolor\":\"white\",\"plot_bgcolor\":\"#E5ECF6\",\"polar\":{\"bgcolor\":\"#E5ECF6\",\"angularaxis\":{\"gridcolor\":\"white\",\"linecolor\":\"white\",\"ticks\":\"\"},\"radialaxis\":{\"gridcolor\":\"white\",\"linecolor\":\"white\",\"ticks\":\"\"}},\"ternary\":{\"bgcolor\":\"#E5ECF6\",\"aaxis\":{\"gridcolor\":\"white\",\"linecolor\":\"white\",\"ticks\":\"\"},\"baxis\":{\"gridcolor\":\"white\",\"linecolor\":\"white\",\"ticks\":\"\"},\"caxis\":{\"gridcolor\":\"white\",\"linecolor\":\"white\",\"ticks\":\"\"}},\"coloraxis\":{\"colorbar\":{\"outlinewidth\":0,\"ticks\":\"\"}},\"colorscale\":{\"sequential\":[[0.0,\"#0d0887\"],[0.1111111111111111,\"#46039f\"],[0.2222222222222222,\"#7201a8\"],[0.3333333333333333,\"#9c179e\"],[0.4444444444444444,\"#bd3786\"],[0.5555555555555556,\"#d8576b\"],[0.6666666666666666,\"#ed7953\"],[0.7777777777777778,\"#fb9f3a\"],[0.8888888888888888,\"#fdca26\"],[1.0,\"#f0f921\"]],\"sequentialminus\":[[0.0,\"#0d0887\"],[0.1111111111111111,\"#46039f\"],[0.2222222222222222,\"#7201a8\"],[0.3333333333333333,\"#9c179e\"],[0.4444444444444444,\"#bd3786\"],[0.5555555555555556,\"#d8576b\"],[0.6666666666666666,\"#ed7953\"],[0.7777777777777778,\"#fb9f3a\"],[0.8888888888888888,\"#fdca26\"],[1.0,\"#f0f921\"]],\"diverging\":[[0,\"#8e0152\"],[0.1,\"#c51b7d\"],[0.2,\"#de77ae\"],[0.3,\"#f1b6da\"],[0.4,\"#fde0ef\"],[0.5,\"#f7f7f7\"],[0.6,\"#e6f5d0\"],[0.7,\"#b8e186\"],[0.8,\"#7fbc41\"],[0.9,\"#4d9221\"],[1,\"#276419\"]]},\"xaxis\":{\"gridcolor\":\"white\",\"linecolor\":\"white\",\"ticks\":\"\",\"title\":{\"standoff\":15},\"zerolinecolor\":\"white\",\"automargin\":true,\"zerolinewidth\":2},\"yaxis\":{\"gridcolor\":\"white\",\"linecolor\":\"white\",\"ticks\":\"\",\"title\":{\"standoff\":15},\"zerolinecolor\":\"white\",\"automargin\":true,\"zerolinewidth\":2},\"scene\":{\"xaxis\":{\"backgroundcolor\":\"#E5ECF6\",\"gridcolor\":\"white\",\"linecolor\":\"white\",\"showbackground\":true,\"ticks\":\"\",\"zerolinecolor\":\"white\",\"gridwidth\":2},\"yaxis\":{\"backgroundcolor\":\"#E5ECF6\",\"gridcolor\":\"white\",\"linecolor\":\"white\",\"showbackground\":true,\"ticks\":\"\",\"zerolinecolor\":\"white\",\"gridwidth\":2},\"zaxis\":{\"backgroundcolor\":\"#E5ECF6\",\"gridcolor\":\"white\",\"linecolor\":\"white\",\"showbackground\":true,\"ticks\":\"\",\"zerolinecolor\":\"white\",\"gridwidth\":2}},\"shapedefaults\":{\"line\":{\"color\":\"#2a3f5f\"}},\"annotationdefaults\":{\"arrowcolor\":\"#2a3f5f\",\"arrowhead\":0,\"arrowwidth\":1},\"geo\":{\"bgcolor\":\"white\",\"landcolor\":\"#E5ECF6\",\"subunitcolor\":\"white\",\"showland\":true,\"showlakes\":true,\"lakecolor\":\"white\"},\"title\":{\"x\":0.05},\"mapbox\":{\"style\":\"light\"}}},\"xaxis\":{\"anchor\":\"y\",\"domain\":[0.0,1.0],\"scaleanchor\":\"y\",\"constrain\":\"domain\",\"title\":{\"text\":\"Date\"}},\"yaxis\":{\"anchor\":\"x\",\"domain\":[0.0,1.0],\"autorange\":\"reversed\",\"constrain\":\"domain\",\"title\":{\"text\":\"Sector17CodeName\"}},\"coloraxis\":{\"colorscale\":[[0.0,\"rgb(5,48,97)\"],[0.1,\"rgb(33,102,172)\"],[0.2,\"rgb(67,147,195)\"],[0.3,\"rgb(146,197,222)\"],[0.4,\"rgb(209,229,240)\"],[0.5,\"rgb(247,247,247)\"],[0.6,\"rgb(253,219,199)\"],[0.7,\"rgb(244,165,130)\"],[0.8,\"rgb(214,96,77)\"],[0.9,\"rgb(178,24,43)\"],[1.0,\"rgb(103,0,31)\"]],\"cmid\":0},\"margin\":{\"t\":0,\"l\":20,\"r\":20,\"b\":0},\"width\":1000},                        {\"responsive\": true}                    ).then(function(){\n",
       "                            \n",
       "var gd = document.getElementById('9db5851e-02ab-459d-8209-be6448a1837c');\n",
       "var x = new MutationObserver(function (mutations, observer) {{\n",
       "        var display = window.getComputedStyle(gd).display;\n",
       "        if (!display || display === 'none') {{\n",
       "            console.log([gd, 'removed!']);\n",
       "            Plotly.purge(gd);\n",
       "            observer.disconnect();\n",
       "        }}\n",
       "}});\n",
       "\n",
       "// Listen for the removal of the full notebook cells\n",
       "var notebookContainer = gd.closest('#notebook-container');\n",
       "if (notebookContainer) {{\n",
       "    x.observe(notebookContainer, {childList: true});\n",
       "}}\n",
       "\n",
       "// Listen for the clearing of the current output cell\n",
       "var outputEl = gd.closest('.output');\n",
       "if (outputEl) {{\n",
       "    x.observe(outputEl, {childList: true});\n",
       "}}\n",
       "\n",
       "                        })                };                });            </script>        </div>"
      ]
     },
     "metadata": {},
     "output_type": "display_data"
    }
   ],
   "source": [
    "import plotly.express as px\n",
    "\n",
    "fig = px.imshow(monthly_returns.round(2),color_continuous_scale='RdBu_r',color_continuous_midpoint=0)\n",
    "fig.update_layout(width=1000,margin={'l': 20, 'r': 20, 't': 0, 'b': 0})\n",
    "fig.show()"
   ]
  },
  {
   "cell_type": "markdown",
   "id": "8d6dbed2-52cc-4eda-93d0-61955f147a75",
   "metadata": {
    "tags": []
   },
   "source": [
    "### 月次収益業種別相関"
   ]
  },
  {
   "cell_type": "code",
   "execution_count": 43,
   "id": "f9d92702",
   "metadata": {
    "tags": []
   },
   "outputs": [
    {
     "data": {
      "application/vnd.plotly.v1+json": {
       "config": {
        "plotlyServerURL": "https://plot.ly"
       },
       "data": [
        {
         "colorbar": {
          "tickmode": "array",
          "ticks": "outside",
          "ticktext": [
           -1,
           0,
           1
          ],
          "tickvals": [
           -1,
           0,
           1
          ]
         },
         "colorscale": [
          [
           0,
           "rgb(5,48,97)"
          ],
          [
           0.1,
           "rgb(33,102,172)"
          ],
          [
           0.2,
           "rgb(67,147,195)"
          ],
          [
           0.3,
           "rgb(146,197,222)"
          ],
          [
           0.4,
           "rgb(209,229,240)"
          ],
          [
           0.5,
           "rgb(247,247,247)"
          ],
          [
           0.6,
           "rgb(253,219,199)"
          ],
          [
           0.7,
           "rgb(244,165,130)"
          ],
          [
           0.8,
           "rgb(214,96,77)"
          ],
          [
           0.9,
           "rgb(178,24,43)"
          ],
          [
           1,
           "rgb(103,0,31)"
          ]
         ],
         "type": "heatmap",
         "x": [
          "食品",
          "電気・ガス",
          "電機・精密",
          "銀行",
          "鉄鋼・非鉄",
          "金融（除く銀行）",
          "運輸・物流",
          "自動車・輸送機",
          "素材・化学",
          "機械",
          "情報通信・サービスその他",
          "建設・資材",
          "小売",
          "商社・卸売",
          "医薬品",
          "不動産",
          "エネルギー資源",
          "その他"
         ],
         "y": [
          "その他",
          "エネルギー資源",
          "不動産",
          "医薬品",
          "商社・卸売",
          "小売",
          "建設・資材",
          "情報通信・サービスその他",
          "機械",
          "素材・化学",
          "自動車・輸送機",
          "運輸・物流",
          "金融（除く銀行）",
          "鉄鋼・非鉄",
          "銀行",
          "電機・精密",
          "電気・ガス",
          "食品"
         ],
         "z": [
          [
           0.19,
           0.17,
           0.27,
           -0.52,
           0.14,
           0.46,
           0.36,
           -0.19,
           0.16,
           0.18,
           0.52,
           0.17,
           -0.25,
           -0.16,
           -0.01,
           0.15,
           0.11,
           1
          ],
          [
           0.22,
           -0.02,
           0.02,
           -0.01,
           0.37,
           0.12,
           0.84,
           0.14,
           0.38,
           0.13,
           0,
           0.34,
           -0.01,
           0.38,
           0.31,
           0.46,
           1,
           0.11
          ],
          [
           0.31,
           -0.24,
           0.22,
           0.24,
           0.3,
           -0.09,
           0.81,
           0.37,
           0.22,
           0.36,
           0.07,
           0.34,
           0.15,
           0.03,
           0.63,
           1,
           0.46,
           0.15
          ],
          [
           -0.35,
           -0.23,
           0.51,
           -0.84,
           0.27,
           -0.63,
           1,
           0.09,
           -0.62,
           0.38,
           -0.77,
           0.38,
           0.86,
           -0.35,
           1,
           0.63,
           0.31,
           -0.01
          ],
          [
           0.41,
           0.19,
           0.09,
           -0.01,
           0.56,
           0.19,
           0.32,
           0.44,
           0.3,
           0.3,
           0.16,
           0.44,
           -0.03,
           1,
           -0.35,
           0.03,
           0.38,
           -0.16
          ],
          [
           0.39,
           0.12,
           0.23,
           0.36,
           0.08,
           -0.11,
           0.68,
           0.17,
           0.4,
           0.11,
           0.02,
           0.14,
           1,
           -0.03,
           0.86,
           0.15,
           -0.01,
           -0.25
          ],
          [
           0.69,
           0.26,
           0.49,
           -0.24,
           0.65,
           0.49,
           0.75,
           0.39,
           0.1,
           0.31,
           0.31,
           1,
           0.14,
           0.44,
           0.38,
           0.34,
           0.34,
           0.17
          ],
          [
           0.34,
           0.38,
           0.5,
           -0.22,
           0.39,
           0.4,
           -0.35,
           0.31,
           0.24,
           0.04,
           1,
           0.31,
           0.02,
           0.16,
           -0.77,
           0.07,
           0,
           0.52
          ],
          [
           0.5,
           -0.02,
           0.3,
           -0.13,
           0.57,
           0.09,
           0.68,
           0,
           0.2,
           1,
           0.04,
           0.31,
           0.11,
           0.3,
           0.38,
           0.36,
           0.13,
           0.18
          ],
          [
           0.43,
           0.16,
           0.04,
           0.25,
           0.16,
           0.12,
           -0.15,
           0.31,
           1,
           0.2,
           0.24,
           0.1,
           0.4,
           0.3,
           -0.62,
           0.22,
           0.38,
           0.16
          ],
          [
           0.38,
           -0.09,
           0.12,
           0.34,
           0.3,
           -0.02,
           0.13,
           1,
           0.31,
           0,
           0.31,
           0.39,
           0.17,
           0.44,
           0.09,
           0.37,
           0.14,
           -0.19
          ],
          [
           0.44,
           -0.59,
           0.44,
           -0.1,
           0.42,
           -0.34,
           1,
           0.13,
           -0.15,
           0.68,
           -0.35,
           0.75,
           0.68,
           0.32,
           1,
           0.81,
           0.84,
           0.36
          ],
          [
           0.61,
           0.4,
           0.35,
           -0.51,
           0.39,
           1,
           -0.34,
           -0.02,
           0.12,
           0.09,
           0.4,
           0.49,
           -0.11,
           0.19,
           -0.63,
           -0.09,
           0.12,
           0.46
          ],
          [
           0.62,
           0.3,
           0.38,
           -0.17,
           1,
           0.39,
           0.42,
           0.3,
           0.16,
           0.57,
           0.39,
           0.65,
           0.08,
           0.56,
           0.27,
           0.3,
           0.37,
           0.14
          ],
          [
           -0.06,
           -0.16,
           -0.45,
           1,
           -0.17,
           -0.51,
           -0.1,
           0.34,
           0.25,
           -0.13,
           -0.22,
           -0.24,
           0.36,
           -0.01,
           -0.84,
           0.24,
           -0.01,
           -0.52
          ],
          [
           0.42,
           0.18,
           1,
           -0.45,
           0.38,
           0.35,
           0.44,
           0.12,
           0.04,
           0.3,
           0.5,
           0.49,
           0.23,
           0.09,
           0.51,
           0.22,
           0.02,
           0.27
          ],
          [
           0.18,
           1,
           0.18,
           -0.16,
           0.3,
           0.4,
           -0.59,
           -0.09,
           0.16,
           -0.02,
           0.38,
           0.26,
           0.12,
           0.19,
           -0.23,
           -0.24,
           -0.02,
           0.17
          ],
          [
           1,
           0.18,
           0.42,
           -0.06,
           0.62,
           0.61,
           0.44,
           0.38,
           0.43,
           0.5,
           0.34,
           0.69,
           0.39,
           0.41,
           -0.35,
           0.31,
           0.22,
           0.19
          ]
         ],
         "zmax": 1,
         "zmin": -1
        }
       ],
       "layout": {
        "height": 400,
        "margin": {
         "b": 0,
         "l": 20,
         "r": 20,
         "t": 0
        },
        "template": {
         "data": {
          "bar": [
           {
            "error_x": {
             "color": "#2a3f5f"
            },
            "error_y": {
             "color": "#2a3f5f"
            },
            "marker": {
             "line": {
              "color": "#E5ECF6",
              "width": 0.5
             },
             "pattern": {
              "fillmode": "overlay",
              "size": 10,
              "solidity": 0.2
             }
            },
            "type": "bar"
           }
          ],
          "barpolar": [
           {
            "marker": {
             "line": {
              "color": "#E5ECF6",
              "width": 0.5
             },
             "pattern": {
              "fillmode": "overlay",
              "size": 10,
              "solidity": 0.2
             }
            },
            "type": "barpolar"
           }
          ],
          "carpet": [
           {
            "aaxis": {
             "endlinecolor": "#2a3f5f",
             "gridcolor": "white",
             "linecolor": "white",
             "minorgridcolor": "white",
             "startlinecolor": "#2a3f5f"
            },
            "baxis": {
             "endlinecolor": "#2a3f5f",
             "gridcolor": "white",
             "linecolor": "white",
             "minorgridcolor": "white",
             "startlinecolor": "#2a3f5f"
            },
            "type": "carpet"
           }
          ],
          "choropleth": [
           {
            "colorbar": {
             "outlinewidth": 0,
             "ticks": ""
            },
            "type": "choropleth"
           }
          ],
          "contour": [
           {
            "colorbar": {
             "outlinewidth": 0,
             "ticks": ""
            },
            "colorscale": [
             [
              0,
              "#0d0887"
             ],
             [
              0.1111111111111111,
              "#46039f"
             ],
             [
              0.2222222222222222,
              "#7201a8"
             ],
             [
              0.3333333333333333,
              "#9c179e"
             ],
             [
              0.4444444444444444,
              "#bd3786"
             ],
             [
              0.5555555555555556,
              "#d8576b"
             ],
             [
              0.6666666666666666,
              "#ed7953"
             ],
             [
              0.7777777777777778,
              "#fb9f3a"
             ],
             [
              0.8888888888888888,
              "#fdca26"
             ],
             [
              1,
              "#f0f921"
             ]
            ],
            "type": "contour"
           }
          ],
          "contourcarpet": [
           {
            "colorbar": {
             "outlinewidth": 0,
             "ticks": ""
            },
            "type": "contourcarpet"
           }
          ],
          "heatmap": [
           {
            "colorbar": {
             "outlinewidth": 0,
             "ticks": ""
            },
            "colorscale": [
             [
              0,
              "#0d0887"
             ],
             [
              0.1111111111111111,
              "#46039f"
             ],
             [
              0.2222222222222222,
              "#7201a8"
             ],
             [
              0.3333333333333333,
              "#9c179e"
             ],
             [
              0.4444444444444444,
              "#bd3786"
             ],
             [
              0.5555555555555556,
              "#d8576b"
             ],
             [
              0.6666666666666666,
              "#ed7953"
             ],
             [
              0.7777777777777778,
              "#fb9f3a"
             ],
             [
              0.8888888888888888,
              "#fdca26"
             ],
             [
              1,
              "#f0f921"
             ]
            ],
            "type": "heatmap"
           }
          ],
          "heatmapgl": [
           {
            "colorbar": {
             "outlinewidth": 0,
             "ticks": ""
            },
            "colorscale": [
             [
              0,
              "#0d0887"
             ],
             [
              0.1111111111111111,
              "#46039f"
             ],
             [
              0.2222222222222222,
              "#7201a8"
             ],
             [
              0.3333333333333333,
              "#9c179e"
             ],
             [
              0.4444444444444444,
              "#bd3786"
             ],
             [
              0.5555555555555556,
              "#d8576b"
             ],
             [
              0.6666666666666666,
              "#ed7953"
             ],
             [
              0.7777777777777778,
              "#fb9f3a"
             ],
             [
              0.8888888888888888,
              "#fdca26"
             ],
             [
              1,
              "#f0f921"
             ]
            ],
            "type": "heatmapgl"
           }
          ],
          "histogram": [
           {
            "marker": {
             "pattern": {
              "fillmode": "overlay",
              "size": 10,
              "solidity": 0.2
             }
            },
            "type": "histogram"
           }
          ],
          "histogram2d": [
           {
            "colorbar": {
             "outlinewidth": 0,
             "ticks": ""
            },
            "colorscale": [
             [
              0,
              "#0d0887"
             ],
             [
              0.1111111111111111,
              "#46039f"
             ],
             [
              0.2222222222222222,
              "#7201a8"
             ],
             [
              0.3333333333333333,
              "#9c179e"
             ],
             [
              0.4444444444444444,
              "#bd3786"
             ],
             [
              0.5555555555555556,
              "#d8576b"
             ],
             [
              0.6666666666666666,
              "#ed7953"
             ],
             [
              0.7777777777777778,
              "#fb9f3a"
             ],
             [
              0.8888888888888888,
              "#fdca26"
             ],
             [
              1,
              "#f0f921"
             ]
            ],
            "type": "histogram2d"
           }
          ],
          "histogram2dcontour": [
           {
            "colorbar": {
             "outlinewidth": 0,
             "ticks": ""
            },
            "colorscale": [
             [
              0,
              "#0d0887"
             ],
             [
              0.1111111111111111,
              "#46039f"
             ],
             [
              0.2222222222222222,
              "#7201a8"
             ],
             [
              0.3333333333333333,
              "#9c179e"
             ],
             [
              0.4444444444444444,
              "#bd3786"
             ],
             [
              0.5555555555555556,
              "#d8576b"
             ],
             [
              0.6666666666666666,
              "#ed7953"
             ],
             [
              0.7777777777777778,
              "#fb9f3a"
             ],
             [
              0.8888888888888888,
              "#fdca26"
             ],
             [
              1,
              "#f0f921"
             ]
            ],
            "type": "histogram2dcontour"
           }
          ],
          "mesh3d": [
           {
            "colorbar": {
             "outlinewidth": 0,
             "ticks": ""
            },
            "type": "mesh3d"
           }
          ],
          "parcoords": [
           {
            "line": {
             "colorbar": {
              "outlinewidth": 0,
              "ticks": ""
             }
            },
            "type": "parcoords"
           }
          ],
          "pie": [
           {
            "automargin": true,
            "type": "pie"
           }
          ],
          "scatter": [
           {
            "fillpattern": {
             "fillmode": "overlay",
             "size": 10,
             "solidity": 0.2
            },
            "type": "scatter"
           }
          ],
          "scatter3d": [
           {
            "line": {
             "colorbar": {
              "outlinewidth": 0,
              "ticks": ""
             }
            },
            "marker": {
             "colorbar": {
              "outlinewidth": 0,
              "ticks": ""
             }
            },
            "type": "scatter3d"
           }
          ],
          "scattercarpet": [
           {
            "marker": {
             "colorbar": {
              "outlinewidth": 0,
              "ticks": ""
             }
            },
            "type": "scattercarpet"
           }
          ],
          "scattergeo": [
           {
            "marker": {
             "colorbar": {
              "outlinewidth": 0,
              "ticks": ""
             }
            },
            "type": "scattergeo"
           }
          ],
          "scattergl": [
           {
            "marker": {
             "colorbar": {
              "outlinewidth": 0,
              "ticks": ""
             }
            },
            "type": "scattergl"
           }
          ],
          "scattermapbox": [
           {
            "marker": {
             "colorbar": {
              "outlinewidth": 0,
              "ticks": ""
             }
            },
            "type": "scattermapbox"
           }
          ],
          "scatterpolar": [
           {
            "marker": {
             "colorbar": {
              "outlinewidth": 0,
              "ticks": ""
             }
            },
            "type": "scatterpolar"
           }
          ],
          "scatterpolargl": [
           {
            "marker": {
             "colorbar": {
              "outlinewidth": 0,
              "ticks": ""
             }
            },
            "type": "scatterpolargl"
           }
          ],
          "scatterternary": [
           {
            "marker": {
             "colorbar": {
              "outlinewidth": 0,
              "ticks": ""
             }
            },
            "type": "scatterternary"
           }
          ],
          "surface": [
           {
            "colorbar": {
             "outlinewidth": 0,
             "ticks": ""
            },
            "colorscale": [
             [
              0,
              "#0d0887"
             ],
             [
              0.1111111111111111,
              "#46039f"
             ],
             [
              0.2222222222222222,
              "#7201a8"
             ],
             [
              0.3333333333333333,
              "#9c179e"
             ],
             [
              0.4444444444444444,
              "#bd3786"
             ],
             [
              0.5555555555555556,
              "#d8576b"
             ],
             [
              0.6666666666666666,
              "#ed7953"
             ],
             [
              0.7777777777777778,
              "#fb9f3a"
             ],
             [
              0.8888888888888888,
              "#fdca26"
             ],
             [
              1,
              "#f0f921"
             ]
            ],
            "type": "surface"
           }
          ],
          "table": [
           {
            "cells": {
             "fill": {
              "color": "#EBF0F8"
             },
             "line": {
              "color": "white"
             }
            },
            "header": {
             "fill": {
              "color": "#C8D4E3"
             },
             "line": {
              "color": "white"
             }
            },
            "type": "table"
           }
          ]
         },
         "layout": {
          "annotationdefaults": {
           "arrowcolor": "#2a3f5f",
           "arrowhead": 0,
           "arrowwidth": 1
          },
          "autotypenumbers": "strict",
          "coloraxis": {
           "colorbar": {
            "outlinewidth": 0,
            "ticks": ""
           }
          },
          "colorscale": {
           "diverging": [
            [
             0,
             "#8e0152"
            ],
            [
             0.1,
             "#c51b7d"
            ],
            [
             0.2,
             "#de77ae"
            ],
            [
             0.3,
             "#f1b6da"
            ],
            [
             0.4,
             "#fde0ef"
            ],
            [
             0.5,
             "#f7f7f7"
            ],
            [
             0.6,
             "#e6f5d0"
            ],
            [
             0.7,
             "#b8e186"
            ],
            [
             0.8,
             "#7fbc41"
            ],
            [
             0.9,
             "#4d9221"
            ],
            [
             1,
             "#276419"
            ]
           ],
           "sequential": [
            [
             0,
             "#0d0887"
            ],
            [
             0.1111111111111111,
             "#46039f"
            ],
            [
             0.2222222222222222,
             "#7201a8"
            ],
            [
             0.3333333333333333,
             "#9c179e"
            ],
            [
             0.4444444444444444,
             "#bd3786"
            ],
            [
             0.5555555555555556,
             "#d8576b"
            ],
            [
             0.6666666666666666,
             "#ed7953"
            ],
            [
             0.7777777777777778,
             "#fb9f3a"
            ],
            [
             0.8888888888888888,
             "#fdca26"
            ],
            [
             1,
             "#f0f921"
            ]
           ],
           "sequentialminus": [
            [
             0,
             "#0d0887"
            ],
            [
             0.1111111111111111,
             "#46039f"
            ],
            [
             0.2222222222222222,
             "#7201a8"
            ],
            [
             0.3333333333333333,
             "#9c179e"
            ],
            [
             0.4444444444444444,
             "#bd3786"
            ],
            [
             0.5555555555555556,
             "#d8576b"
            ],
            [
             0.6666666666666666,
             "#ed7953"
            ],
            [
             0.7777777777777778,
             "#fb9f3a"
            ],
            [
             0.8888888888888888,
             "#fdca26"
            ],
            [
             1,
             "#f0f921"
            ]
           ]
          },
          "colorway": [
           "#636efa",
           "#EF553B",
           "#00cc96",
           "#ab63fa",
           "#FFA15A",
           "#19d3f3",
           "#FF6692",
           "#B6E880",
           "#FF97FF",
           "#FECB52"
          ],
          "font": {
           "color": "#2a3f5f"
          },
          "geo": {
           "bgcolor": "white",
           "lakecolor": "white",
           "landcolor": "#E5ECF6",
           "showlakes": true,
           "showland": true,
           "subunitcolor": "white"
          },
          "hoverlabel": {
           "align": "left"
          },
          "hovermode": "closest",
          "mapbox": {
           "style": "light"
          },
          "paper_bgcolor": "white",
          "plot_bgcolor": "#E5ECF6",
          "polar": {
           "angularaxis": {
            "gridcolor": "white",
            "linecolor": "white",
            "ticks": ""
           },
           "bgcolor": "#E5ECF6",
           "radialaxis": {
            "gridcolor": "white",
            "linecolor": "white",
            "ticks": ""
           }
          },
          "scene": {
           "xaxis": {
            "backgroundcolor": "#E5ECF6",
            "gridcolor": "white",
            "gridwidth": 2,
            "linecolor": "white",
            "showbackground": true,
            "ticks": "",
            "zerolinecolor": "white"
           },
           "yaxis": {
            "backgroundcolor": "#E5ECF6",
            "gridcolor": "white",
            "gridwidth": 2,
            "linecolor": "white",
            "showbackground": true,
            "ticks": "",
            "zerolinecolor": "white"
           },
           "zaxis": {
            "backgroundcolor": "#E5ECF6",
            "gridcolor": "white",
            "gridwidth": 2,
            "linecolor": "white",
            "showbackground": true,
            "ticks": "",
            "zerolinecolor": "white"
           }
          },
          "shapedefaults": {
           "line": {
            "color": "#2a3f5f"
           }
          },
          "ternary": {
           "aaxis": {
            "gridcolor": "white",
            "linecolor": "white",
            "ticks": ""
           },
           "baxis": {
            "gridcolor": "white",
            "linecolor": "white",
            "ticks": ""
           },
           "bgcolor": "#E5ECF6",
           "caxis": {
            "gridcolor": "white",
            "linecolor": "white",
            "ticks": ""
           }
          },
          "title": {
           "x": 0.05
          },
          "xaxis": {
           "automargin": true,
           "gridcolor": "white",
           "linecolor": "white",
           "ticks": "",
           "title": {
            "standoff": 15
           },
           "zerolinecolor": "white",
           "zerolinewidth": 2
          },
          "yaxis": {
           "automargin": true,
           "gridcolor": "white",
           "linecolor": "white",
           "ticks": "",
           "title": {
            "standoff": 15
           },
           "zerolinecolor": "white",
           "zerolinewidth": 2
          }
         }
        },
        "width": 800,
        "xaxis": {
         "autorange": true,
         "range": [
          -0.5,
          17.5
         ],
         "type": "category"
        },
        "yaxis": {
         "autorange": true,
         "range": [
          -0.5,
          17.5
         ],
         "type": "category"
        }
       }
      },
      "image/png": "[encoded data removed]",
      "text/html": [
       "<div>                            <div id=\"03810ed4-b2fa-4323-8871-6517b87f7982\" class=\"plotly-graph-div\" style=\"height:400px; width:800px;\"></div>            <script type=\"text/javascript\">                require([\"plotly\"], function(Plotly) {                    window.PLOTLYENV=window.PLOTLYENV || {};                                    if (document.getElementById(\"03810ed4-b2fa-4323-8871-6517b87f7982\")) {                    Plotly.newPlot(                        \"03810ed4-b2fa-4323-8871-6517b87f7982\",                        [{\"colorbar\":{\"tickmode\":\"array\",\"ticks\":\"outside\",\"ticktext\":[-1,0,1],\"tickvals\":[-1,0,1]},\"colorscale\":[[0.0,\"rgb(5,48,97)\"],[0.1,\"rgb(33,102,172)\"],[0.2,\"rgb(67,147,195)\"],[0.3,\"rgb(146,197,222)\"],[0.4,\"rgb(209,229,240)\"],[0.5,\"rgb(247,247,247)\"],[0.6,\"rgb(253,219,199)\"],[0.7,\"rgb(244,165,130)\"],[0.8,\"rgb(214,96,77)\"],[0.9,\"rgb(178,24,43)\"],[1.0,\"rgb(103,0,31)\"]],\"x\":[\"\\u98df\\u54c1\",\"\\u96fb\\u6c17\\u30fb\\u30ac\\u30b9\",\"\\u96fb\\u6a5f\\u30fb\\u7cbe\\u5bc6\",\"\\u9280\\u884c\",\"\\u9244\\u92fc\\u30fb\\u975e\\u9244\",\"\\u91d1\\u878d\\uff08\\u9664\\u304f\\u9280\\u884c\\uff09\",\"\\u904b\\u8f38\\u30fb\\u7269\\u6d41\",\"\\u81ea\\u52d5\\u8eca\\u30fb\\u8f38\\u9001\\u6a5f\",\"\\u7d20\\u6750\\u30fb\\u5316\\u5b66\",\"\\u6a5f\\u68b0\",\"\\u60c5\\u5831\\u901a\\u4fe1\\u30fb\\u30b5\\u30fc\\u30d3\\u30b9\\u305d\\u306e\\u4ed6\",\"\\u5efa\\u8a2d\\u30fb\\u8cc7\\u6750\",\"\\u5c0f\\u58f2\",\"\\u5546\\u793e\\u30fb\\u5378\\u58f2\",\"\\u533b\\u85ac\\u54c1\",\"\\u4e0d\\u52d5\\u7523\",\"\\u30a8\\u30cd\\u30eb\\u30ae\\u30fc\\u8cc7\\u6e90\",\"\\u305d\\u306e\\u4ed6\"],\"y\":[\"\\u305d\\u306e\\u4ed6\",\"\\u30a8\\u30cd\\u30eb\\u30ae\\u30fc\\u8cc7\\u6e90\",\"\\u4e0d\\u52d5\\u7523\",\"\\u533b\\u85ac\\u54c1\",\"\\u5546\\u793e\\u30fb\\u5378\\u58f2\",\"\\u5c0f\\u58f2\",\"\\u5efa\\u8a2d\\u30fb\\u8cc7\\u6750\",\"\\u60c5\\u5831\\u901a\\u4fe1\\u30fb\\u30b5\\u30fc\\u30d3\\u30b9\\u305d\\u306e\\u4ed6\",\"\\u6a5f\\u68b0\",\"\\u7d20\\u6750\\u30fb\\u5316\\u5b66\",\"\\u81ea\\u52d5\\u8eca\\u30fb\\u8f38\\u9001\\u6a5f\",\"\\u904b\\u8f38\\u30fb\\u7269\\u6d41\",\"\\u91d1\\u878d\\uff08\\u9664\\u304f\\u9280\\u884c\\uff09\",\"\\u9244\\u92fc\\u30fb\\u975e\\u9244\",\"\\u9280\\u884c\",\"\\u96fb\\u6a5f\\u30fb\\u7cbe\\u5bc6\",\"\\u96fb\\u6c17\\u30fb\\u30ac\\u30b9\",\"\\u98df\\u54c1\"],\"z\":[[0.19,0.17,0.27,-0.52,0.14,0.46,0.36,-0.19,0.16,0.18,0.52,0.17,-0.25,-0.16,-0.01,0.15,0.11,1.0],[0.22,-0.02,0.02,-0.01,0.37,0.12,0.84,0.14,0.38,0.13,0.0,0.34,-0.01,0.38,0.31,0.46,1.0,0.11],[0.31,-0.24,0.22,0.24,0.3,-0.09,0.81,0.37,0.22,0.36,0.07,0.34,0.15,0.03,0.63,1.0,0.46,0.15],[-0.35,-0.23,0.51,-0.84,0.27,-0.63,1.0,0.09,-0.62,0.38,-0.77,0.38,0.86,-0.35,1.0,0.63,0.31,-0.01],[0.41,0.19,0.09,-0.01,0.56,0.19,0.32,0.44,0.3,0.3,0.16,0.44,-0.03,1.0,-0.35,0.03,0.38,-0.16],[0.39,0.12,0.23,0.36,0.08,-0.11,0.68,0.17,0.4,0.11,0.02,0.14,1.0,-0.03,0.86,0.15,-0.01,-0.25],[0.69,0.26,0.49,-0.24,0.65,0.49,0.75,0.39,0.1,0.31,0.31,1.0,0.14,0.44,0.38,0.34,0.34,0.17],[0.34,0.38,0.5,-0.22,0.39,0.4,-0.35,0.31,0.24,0.04,1.0,0.31,0.02,0.16,-0.77,0.07,0.0,0.52],[0.5,-0.02,0.3,-0.13,0.57,0.09,0.68,0.0,0.2,1.0,0.04,0.31,0.11,0.3,0.38,0.36,0.13,0.18],[0.43,0.16,0.04,0.25,0.16,0.12,-0.15,0.31,1.0,0.2,0.24,0.1,0.4,0.3,-0.62,0.22,0.38,0.16],[0.38,-0.09,0.12,0.34,0.3,-0.02,0.13,1.0,0.31,0.0,0.31,0.39,0.17,0.44,0.09,0.37,0.14,-0.19],[0.44,-0.59,0.44,-0.1,0.42,-0.34,1.0,0.13,-0.15,0.68,-0.35,0.75,0.68,0.32,1.0,0.81,0.84,0.36],[0.61,0.4,0.35,-0.51,0.39,1.0,-0.34,-0.02,0.12,0.09,0.4,0.49,-0.11,0.19,-0.63,-0.09,0.12,0.46],[0.62,0.3,0.38,-0.17,1.0,0.39,0.42,0.3,0.16,0.57,0.39,0.65,0.08,0.56,0.27,0.3,0.37,0.14],[-0.06,-0.16,-0.45,1.0,-0.17,-0.51,-0.1,0.34,0.25,-0.13,-0.22,-0.24,0.36,-0.01,-0.84,0.24,-0.01,-0.52],[0.42,0.18,1.0,-0.45,0.38,0.35,0.44,0.12,0.04,0.3,0.5,0.49,0.23,0.09,0.51,0.22,0.02,0.27],[0.18,1.0,0.18,-0.16,0.3,0.4,-0.59,-0.09,0.16,-0.02,0.38,0.26,0.12,0.19,-0.23,-0.24,-0.02,0.17],[1.0,0.18,0.42,-0.06,0.62,0.61,0.44,0.38,0.43,0.5,0.34,0.69,0.39,0.41,-0.35,0.31,0.22,0.19]],\"zmax\":1,\"zmin\":-1,\"type\":\"heatmap\"}],                        {\"template\":{\"data\":{\"histogram2dcontour\":[{\"type\":\"histogram2dcontour\",\"colorbar\":{\"outlinewidth\":0,\"ticks\":\"\"},\"colorscale\":[[0.0,\"#0d0887\"],[0.1111111111111111,\"#46039f\"],[0.2222222222222222,\"#7201a8\"],[0.3333333333333333,\"#9c179e\"],[0.4444444444444444,\"#bd3786\"],[0.5555555555555556,\"#d8576b\"],[0.6666666666666666,\"#ed7953\"],[0.7777777777777778,\"#fb9f3a\"],[0.8888888888888888,\"#fdca26\"],[1.0,\"#f0f921\"]]}],\"choropleth\":[{\"type\":\"choropleth\",\"colorbar\":{\"outlinewidth\":0,\"ticks\":\"\"}}],\"histogram2d\":[{\"type\":\"histogram2d\",\"colorbar\":{\"outlinewidth\":0,\"ticks\":\"\"},\"colorscale\":[[0.0,\"#0d0887\"],[0.1111111111111111,\"#46039f\"],[0.2222222222222222,\"#7201a8\"],[0.3333333333333333,\"#9c179e\"],[0.4444444444444444,\"#bd3786\"],[0.5555555555555556,\"#d8576b\"],[0.6666666666666666,\"#ed7953\"],[0.7777777777777778,\"#fb9f3a\"],[0.8888888888888888,\"#fdca26\"],[1.0,\"#f0f921\"]]}],\"heatmap\":[{\"type\":\"heatmap\",\"colorbar\":{\"outlinewidth\":0,\"ticks\":\"\"},\"colorscale\":[[0.0,\"#0d0887\"],[0.1111111111111111,\"#46039f\"],[0.2222222222222222,\"#7201a8\"],[0.3333333333333333,\"#9c179e\"],[0.4444444444444444,\"#bd3786\"],[0.5555555555555556,\"#d8576b\"],[0.6666666666666666,\"#ed7953\"],[0.7777777777777778,\"#fb9f3a\"],[0.8888888888888888,\"#fdca26\"],[1.0,\"#f0f921\"]]}],\"heatmapgl\":[{\"type\":\"heatmapgl\",\"colorbar\":{\"outlinewidth\":0,\"ticks\":\"\"},\"colorscale\":[[0.0,\"#0d0887\"],[0.1111111111111111,\"#46039f\"],[0.2222222222222222,\"#7201a8\"],[0.3333333333333333,\"#9c179e\"],[0.4444444444444444,\"#bd3786\"],[0.5555555555555556,\"#d8576b\"],[0.6666666666666666,\"#ed7953\"],[0.7777777777777778,\"#fb9f3a\"],[0.8888888888888888,\"#fdca26\"],[1.0,\"#f0f921\"]]}],\"contourcarpet\":[{\"type\":\"contourcarpet\",\"colorbar\":{\"outlinewidth\":0,\"ticks\":\"\"}}],\"contour\":[{\"type\":\"contour\",\"colorbar\":{\"outlinewidth\":0,\"ticks\":\"\"},\"colorscale\":[[0.0,\"#0d0887\"],[0.1111111111111111,\"#46039f\"],[0.2222222222222222,\"#7201a8\"],[0.3333333333333333,\"#9c179e\"],[0.4444444444444444,\"#bd3786\"],[0.5555555555555556,\"#d8576b\"],[0.6666666666666666,\"#ed7953\"],[0.7777777777777778,\"#fb9f3a\"],[0.8888888888888888,\"#fdca26\"],[1.0,\"#f0f921\"]]}],\"surface\":[{\"type\":\"surface\",\"colorbar\":{\"outlinewidth\":0,\"ticks\":\"\"},\"colorscale\":[[0.0,\"#0d0887\"],[0.1111111111111111,\"#46039f\"],[0.2222222222222222,\"#7201a8\"],[0.3333333333333333,\"#9c179e\"],[0.4444444444444444,\"#bd3786\"],[0.5555555555555556,\"#d8576b\"],[0.6666666666666666,\"#ed7953\"],[0.7777777777777778,\"#fb9f3a\"],[0.8888888888888888,\"#fdca26\"],[1.0,\"#f0f921\"]]}],\"mesh3d\":[{\"type\":\"mesh3d\",\"colorbar\":{\"outlinewidth\":0,\"ticks\":\"\"}}],\"scatter\":[{\"fillpattern\":{\"fillmode\":\"overlay\",\"size\":10,\"solidity\":0.2},\"type\":\"scatter\"}],\"parcoords\":[{\"type\":\"parcoords\",\"line\":{\"colorbar\":{\"outlinewidth\":0,\"ticks\":\"\"}}}],\"scatterpolargl\":[{\"type\":\"scatterpolargl\",\"marker\":{\"colorbar\":{\"outlinewidth\":0,\"ticks\":\"\"}}}],\"bar\":[{\"error_x\":{\"color\":\"#2a3f5f\"},\"error_y\":{\"color\":\"#2a3f5f\"},\"marker\":{\"line\":{\"color\":\"#E5ECF6\",\"width\":0.5},\"pattern\":{\"fillmode\":\"overlay\",\"size\":10,\"solidity\":0.2}},\"type\":\"bar\"}],\"scattergeo\":[{\"type\":\"scattergeo\",\"marker\":{\"colorbar\":{\"outlinewidth\":0,\"ticks\":\"\"}}}],\"scatterpolar\":[{\"type\":\"scatterpolar\",\"marker\":{\"colorbar\":{\"outlinewidth\":0,\"ticks\":\"\"}}}],\"histogram\":[{\"marker\":{\"pattern\":{\"fillmode\":\"overlay\",\"size\":10,\"solidity\":0.2}},\"type\":\"histogram\"}],\"scattergl\":[{\"type\":\"scattergl\",\"marker\":{\"colorbar\":{\"outlinewidth\":0,\"ticks\":\"\"}}}],\"scatter3d\":[{\"type\":\"scatter3d\",\"line\":{\"colorbar\":{\"outlinewidth\":0,\"ticks\":\"\"}},\"marker\":{\"colorbar\":{\"outlinewidth\":0,\"ticks\":\"\"}}}],\"scattermapbox\":[{\"type\":\"scattermapbox\",\"marker\":{\"colorbar\":{\"outlinewidth\":0,\"ticks\":\"\"}}}],\"scatterternary\":[{\"type\":\"scatterternary\",\"marker\":{\"colorbar\":{\"outlinewidth\":0,\"ticks\":\"\"}}}],\"scattercarpet\":[{\"type\":\"scattercarpet\",\"marker\":{\"colorbar\":{\"outlinewidth\":0,\"ticks\":\"\"}}}],\"carpet\":[{\"aaxis\":{\"endlinecolor\":\"#2a3f5f\",\"gridcolor\":\"white\",\"linecolor\":\"white\",\"minorgridcolor\":\"white\",\"startlinecolor\":\"#2a3f5f\"},\"baxis\":{\"endlinecolor\":\"#2a3f5f\",\"gridcolor\":\"white\",\"linecolor\":\"white\",\"minorgridcolor\":\"white\",\"startlinecolor\":\"#2a3f5f\"},\"type\":\"carpet\"}],\"table\":[{\"cells\":{\"fill\":{\"color\":\"#EBF0F8\"},\"line\":{\"color\":\"white\"}},\"header\":{\"fill\":{\"color\":\"#C8D4E3\"},\"line\":{\"color\":\"white\"}},\"type\":\"table\"}],\"barpolar\":[{\"marker\":{\"line\":{\"color\":\"#E5ECF6\",\"width\":0.5},\"pattern\":{\"fillmode\":\"overlay\",\"size\":10,\"solidity\":0.2}},\"type\":\"barpolar\"}],\"pie\":[{\"automargin\":true,\"type\":\"pie\"}]},\"layout\":{\"autotypenumbers\":\"strict\",\"colorway\":[\"#636efa\",\"#EF553B\",\"#00cc96\",\"#ab63fa\",\"#FFA15A\",\"#19d3f3\",\"#FF6692\",\"#B6E880\",\"#FF97FF\",\"#FECB52\"],\"font\":{\"color\":\"#2a3f5f\"},\"hovermode\":\"closest\",\"hoverlabel\":{\"align\":\"left\"},\"paper_bgcolor\":\"white\",\"plot_bgcolor\":\"#E5ECF6\",\"polar\":{\"bgcolor\":\"#E5ECF6\",\"angularaxis\":{\"gridcolor\":\"white\",\"linecolor\":\"white\",\"ticks\":\"\"},\"radialaxis\":{\"gridcolor\":\"white\",\"linecolor\":\"white\",\"ticks\":\"\"}},\"ternary\":{\"bgcolor\":\"#E5ECF6\",\"aaxis\":{\"gridcolor\":\"white\",\"linecolor\":\"white\",\"ticks\":\"\"},\"baxis\":{\"gridcolor\":\"white\",\"linecolor\":\"white\",\"ticks\":\"\"},\"caxis\":{\"gridcolor\":\"white\",\"linecolor\":\"white\",\"ticks\":\"\"}},\"coloraxis\":{\"colorbar\":{\"outlinewidth\":0,\"ticks\":\"\"}},\"colorscale\":{\"sequential\":[[0.0,\"#0d0887\"],[0.1111111111111111,\"#46039f\"],[0.2222222222222222,\"#7201a8\"],[0.3333333333333333,\"#9c179e\"],[0.4444444444444444,\"#bd3786\"],[0.5555555555555556,\"#d8576b\"],[0.6666666666666666,\"#ed7953\"],[0.7777777777777778,\"#fb9f3a\"],[0.8888888888888888,\"#fdca26\"],[1.0,\"#f0f921\"]],\"sequentialminus\":[[0.0,\"#0d0887\"],[0.1111111111111111,\"#46039f\"],[0.2222222222222222,\"#7201a8\"],[0.3333333333333333,\"#9c179e\"],[0.4444444444444444,\"#bd3786\"],[0.5555555555555556,\"#d8576b\"],[0.6666666666666666,\"#ed7953\"],[0.7777777777777778,\"#fb9f3a\"],[0.8888888888888888,\"#fdca26\"],[1.0,\"#f0f921\"]],\"diverging\":[[0,\"#8e0152\"],[0.1,\"#c51b7d\"],[0.2,\"#de77ae\"],[0.3,\"#f1b6da\"],[0.4,\"#fde0ef\"],[0.5,\"#f7f7f7\"],[0.6,\"#e6f5d0\"],[0.7,\"#b8e186\"],[0.8,\"#7fbc41\"],[0.9,\"#4d9221\"],[1,\"#276419\"]]},\"xaxis\":{\"gridcolor\":\"white\",\"linecolor\":\"white\",\"ticks\":\"\",\"title\":{\"standoff\":15},\"zerolinecolor\":\"white\",\"automargin\":true,\"zerolinewidth\":2},\"yaxis\":{\"gridcolor\":\"white\",\"linecolor\":\"white\",\"ticks\":\"\",\"title\":{\"standoff\":15},\"zerolinecolor\":\"white\",\"automargin\":true,\"zerolinewidth\":2},\"scene\":{\"xaxis\":{\"backgroundcolor\":\"#E5ECF6\",\"gridcolor\":\"white\",\"linecolor\":\"white\",\"showbackground\":true,\"ticks\":\"\",\"zerolinecolor\":\"white\",\"gridwidth\":2},\"yaxis\":{\"backgroundcolor\":\"#E5ECF6\",\"gridcolor\":\"white\",\"linecolor\":\"white\",\"showbackground\":true,\"ticks\":\"\",\"zerolinecolor\":\"white\",\"gridwidth\":2},\"zaxis\":{\"backgroundcolor\":\"#E5ECF6\",\"gridcolor\":\"white\",\"linecolor\":\"white\",\"showbackground\":true,\"ticks\":\"\",\"zerolinecolor\":\"white\",\"gridwidth\":2}},\"shapedefaults\":{\"line\":{\"color\":\"#2a3f5f\"}},\"annotationdefaults\":{\"arrowcolor\":\"#2a3f5f\",\"arrowhead\":0,\"arrowwidth\":1},\"geo\":{\"bgcolor\":\"white\",\"landcolor\":\"#E5ECF6\",\"subunitcolor\":\"white\",\"showland\":true,\"showlakes\":true,\"lakecolor\":\"white\"},\"title\":{\"x\":0.05},\"mapbox\":{\"style\":\"light\"}}},\"margin\":{\"l\":20,\"r\":20,\"t\":0,\"b\":0},\"height\":400,\"width\":800},                        {\"responsive\": true}                    ).then(function(){\n",
       "                            \n",
       "var gd = document.getElementById('03810ed4-b2fa-4323-8871-6517b87f7982');\n",
       "var x = new MutationObserver(function (mutations, observer) {{\n",
       "        var display = window.getComputedStyle(gd).display;\n",
       "        if (!display || display === 'none') {{\n",
       "            console.log([gd, 'removed!']);\n",
       "            Plotly.purge(gd);\n",
       "            observer.disconnect();\n",
       "        }}\n",
       "}});\n",
       "\n",
       "// Listen for the removal of the full notebook cells\n",
       "var notebookContainer = gd.closest('#notebook-container');\n",
       "if (notebookContainer) {{\n",
       "    x.observe(notebookContainer, {childList: true});\n",
       "}}\n",
       "\n",
       "// Listen for the clearing of the current output cell\n",
       "var outputEl = gd.closest('.output');\n",
       "if (outputEl) {{\n",
       "    x.observe(outputEl, {childList: true});\n",
       "}}\n",
       "\n",
       "                        })                };                });            </script>        </div>"
      ]
     },
     "metadata": {},
     "output_type": "display_data"
    }
   ],
   "source": [
    "import plotly.graph_objects as go\n",
    "\n",
    "df_corr=monthly_returns.T.corr().sort_index(ascending=False)\n",
    "df_corr=df_corr.sort_index(axis='columns',ascending=True)\n",
    "fig_corr = go.Figure([go.Heatmap(z=df_corr.round(2).values,\n",
    "                                x=df_corr.round(2).index.values,\n",
    "                                y=df_corr.round(2).columns.values,\n",
    "                                colorscale='RdBu_r',\n",
    "                                zmin = -1,\n",
    "                                zmax = 1,\n",
    "                                colorbar=dict(\n",
    "                                    tickmode='array',\n",
    "                                    tickvals=[-1,0,1],\n",
    "                                    ticktext=[-1,0,1],\n",
    "                                    ticks='outside'\n",
    "                                ))])\n",
    "\n",
    "fig_corr.update_layout(height=400, width=800,margin={'l': 20, 'r': 20, 't': 0, 'b': 0})"
   ]
  },
  {
   "cell_type": "markdown",
   "id": "d5cef65f-c748-452c-ae93-306529254b26",
   "metadata": {
    "tags": []
   },
   "source": [
    "### Chat-GPT(AzureOpenAI) Google検索\n",
    "google-api-python-clientやlangchainは別途インストール要\n",
    "langchain ver 0.0.142"
   ]
  },
  {
   "cell_type": "code",
   "execution_count": 11,
   "id": "eef7a93a-bb0c-4ada-ba7a-85c416489bfa",
   "metadata": {
    "tags": []
   },
   "outputs": [],
   "source": [
    "from langchain.chat_models import AzureChatOpenAI\n",
    "from langchain.agents import load_tools\n",
    "from langchain.agents import initialize_agent\n",
    "from langchain.memory import ConversationBufferMemory\n",
    "import os\n",
    "初期化設定\n",
    "DEPLOYMENT_NAME_gpt35  = 'DEPLOYMENT_NAME'\n",
    "MODEL_NAME_gpt35       = 'MODEL_NAME'\n",
    "OPEN_API_VERSION_gpt35 = 'OPEN_API_VERSION'\n",
    "#Azure OpenAIのパラメータ(Azureで別途設定)\n",
    "os.environ[\"OPENAI_API_TYPE\"] = 'OPENAI_API_TYPE'\n",
    "os.environ[\"OPENAI_API_BASE\"] = 'OPENAI_API_BASE' \n",
    "os.environ[\"OPENAI_API_KEY\"]  = 'OPENAI_API_KEY'\n",
    "#google_のCustime Search APIkey\n",
    "os.environ[\"GOOGLE_CSE_ID\"]  = \"CSE_ID\"\n",
    "os.environ[\"GOOGLE_API_KEY\"] = \"GOOGLE_API_KEY\""
   ]
  },
  {
   "cell_type": "code",
   "execution_count": 12,
   "id": "0d504586-4ec6-479d-be20-b6844ddfff9a",
   "metadata": {
    "tags": []
   },
   "outputs": [],
   "source": [
    "llm   = AzureChatOpenAI(openai_api_version=OPEN_API_VERSION_gpt35,deployment_name=DEPLOYMENT_NAME_gpt35,temperature=0)\n",
    "tools = load_tools([\"google-search\"])\n",
    "agent = initialize_agent(tools, llm, agent=\"zero-shot-react-description\")"
   ]
  },
  {
   "cell_type": "code",
   "execution_count": 15,
   "id": "0697c7d3-2246-4ed2-951d-fff23254bcf3",
   "metadata": {
    "tags": []
   },
   "outputs": [],
   "source": [
    "conversation_history = \"\"\n",
    "prefix = \"\"\"Anser the following questions as best you can, but speaking Japanese. You have access to the following tools:\"\"\"\n",
    "suffix = \"\"\"Begin! Remember to speak Japanese when giving your final answer. Use lots of \"Args\"\"\"\n",
    "memory = ConversationBufferMemory(memory_key=\"chat_history\", return_messages=True)\n",
    "agent_chain = initialize_agent(tools, llm, agent=\"chat-conversational-react-description\", memory=memory, prefix=prefix, suffix=suffix)"
   ]
  },
  {
   "cell_type": "code",
   "execution_count": 17,
   "id": "3de1d9d3-bbfe-468c-a3dc-7d23973cd50a",
   "metadata": {
    "tags": []
   },
   "outputs": [
    {
     "name": "stdin",
     "output_type": "stream",
     "text": [
      "質問を入力（終了：exit)   なぜ2021年１１月は全業種で株価がさがったのか\n"
     ]
    },
    {
     "name": "stdout",
     "output_type": "stream",
     "text": [
      "なぜ2021年１１月は全業種で株価がさがったのか\n",
      "株価が下落した理由については、人工知能（AI）分野の急成長期待で高騰していたハイテク株中心のナスダック総合株価指数が1.3%安で終えたことが一因とされています。また、半導体不足や新型コロナウイルスの感染拡大などの要因も影響していると考えられています。\n"
     ]
    },
    {
     "name": "stdin",
     "output_type": "stream",
     "text": [
      "質問を入力（終了：exit)   exit\n"
     ]
    },
    {
     "name": "stdout",
     "output_type": "stream",
     "text": [
      "exit\n",
      "Goodbye!\n"
     ]
    }
   ],
   "source": [
    "# ChatGPT会話ループ\n",
    "user = \"\"\n",
    "while user != \"exit\":\n",
    "    user = input(\"質問を入力（終了：exit)  \")\n",
    "    print(user)\n",
    "    ai = agent_chain.run(input=user)\n",
    "    print(ai)"
   ]
  },
  {
   "cell_type": "code",
   "execution_count": null,
   "id": "45a685ae-ace0-49f6-9184-ecfa72cad5a3",
   "metadata": {},
   "outputs": [],
   "source": []
  }
 ],
 "metadata": {
  "kernelspec": {
   "display_name": "conda_python3",
   "language": "python",
   "name": "conda_python3"
  },
  "language_info": {
   "codemirror_mode": {
    "name": "ipython",
    "version": 3
   },
   "file_extension": ".py",
   "mimetype": "text/x-python",
   "name": "python",
   "nbconvert_exporter": "python",
   "pygments_lexer": "ipython3",
   "version": "3.10.8"
  }
 },
 "nbformat": 4,
 "nbformat_minor": 5
}
