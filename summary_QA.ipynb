{
 "cells": [
  {
   "cell_type": "markdown",
   "id": "8fec7799-0021-4197-bd86-0b6716627786",
   "metadata": {},
   "source": [
    "### 金融政策決定会合のDLと要約"
   ]
  },
  {
   "cell_type": "code",
   "execution_count": 1,
   "id": "1769bd5d-a41e-4f8c-83b7-f6ac9f73ce84",
   "metadata": {
    "tags": []
   },
   "outputs": [],
   "source": [
    "from langchain.vectorstores import Chroma\n",
    "from langchain.embeddings import OpenAIEmbeddings\n",
    "from langchain.text_splitter import RecursiveCharacterTextSplitter\n",
    "#from langchain.llms import OpenAI\n",
    "from langchain.chains import RetrievalQA\n",
    "from langchain.chat_models import AzureChatOpenAI\n",
    "from langchain.document_loaders import PyPDFLoader\n",
    "from langchain import PromptTemplate\n",
    "from langchain.text_splitter import CharacterTextSplitter\n",
    "from langchain.docstore.document import Document\n",
    "from langchain.chains.summarize import load_summarize_chain\n",
    "import os\n",
    "import json\n",
    "import requests\n",
    "import PyPDF2\n",
    "import boto3\n",
    "from transformers import AutoTokenizer, AutoModelForSequenceClassification"
   ]
  },
  {
   "cell_type": "code",
   "execution_count": 2,
   "id": "244bd00f-8892-478f-99cc-e27b5fe7964e",
   "metadata": {
    "tags": []
   },
   "outputs": [],
   "source": [
    "# PDFファイルのURL\n",
    "pdf_url = 'https://www.boj.or.jp/mopo/mpmsche_minu/minu_2023/g230310.pdf'\n",
    "\n",
    "# PDFファイルのダウンロード\n",
    "response = requests.get(pdf_url)\n",
    "\n",
    "pdf_filename = 'document.pdf'\n",
    "with open(pdf_filename, 'wb') as file:\n",
    "    file.write(response.content)"
   ]
  },
  {
   "cell_type": "code",
   "execution_count": 3,
   "id": "07e88c56-94b2-42b7-828c-d18375a4009d",
   "metadata": {
    "tags": []
   },
   "outputs": [],
   "source": [
    "#設定\n",
    "os.environ[\"OPENAI_API_TYPE\"] = 'OPENAI_API_TYPE' \n",
    "os.environ[\"OPENAI_API_BASE\"] = 'OPENAI_API_BASE' \n",
    "os.environ[\"OPENAI_API_KEY\"] =  'OPENAI_API_KEY'\n",
    "\n",
    "DEPLOYMENT_NAME_gpt35  = 'DEPLOYMENT_NAME'\n",
    "MODEL_NAME_gpt35       = 'MODEL_NAME'\n",
    "OPEN_API_VERSION_gpt35 = 'OPEN_API_VERSION'\n",
    "\n",
    "#embededの設定\n",
    "DEPLOYMENT_NAME_embeded = 'DEPLOYMENT_NAME'\n",
    "MODEL_NAME_embeded      = 'MODEL_NAME'\n",
    "os.environ[\"OPENAI_EMBEDDINGS_DEPLOYMENT\"] = DEPLOYMENT_NAME_embeded"
   ]
  },
  {
   "cell_type": "code",
   "execution_count": 4,
   "id": "42fac855-b1de-4eea-aef7-321f3a0e02f1",
   "metadata": {
    "tags": []
   },
   "outputs": [],
   "source": [
    "#言語モデル\n",
    "llm = AzureChatOpenAI(\n",
    "    openai_api_version=OPEN_API_VERSION_gpt35,\n",
    "    deployment_name=DEPLOYMENT_NAME_gpt35,\n",
    "    temperature=0, \n",
    "    max_tokens=1000 \n",
    ")\n",
    "\n",
    "#文字セパレート\n",
    "text_splitter = CharacterTextSplitter(\n",
    "    separator = \"\\n\",\n",
    "    chunk_size = 2000,\n",
    "    chunk_overlap = 0,\n",
    "    length_function = len,\n",
    ")\n",
    "\n",
    "#ファイル分割\n",
    "def pdf_reader(open_pdf_file):\n",
    "    read_pdf = PyPDF2.PdfReader(open_pdf_file)\n",
    "    num_pages = len(read_pdf.pages)\n",
    "    text = \"\"\n",
    "    for page_number in range(num_pages): \n",
    "        page = read_pdf.pages[page_number]\n",
    "        text += page.extract_text()\n",
    "    return text"
   ]
  },
  {
   "cell_type": "code",
   "execution_count": 5,
   "id": "17e82c8f-f837-4677-8fd5-088731a377f9",
   "metadata": {
    "tags": []
   },
   "outputs": [],
   "source": [
    "#PDF読み込みと分割\n",
    "state_of_the_union=pdf_reader(pdf_filename)\n",
    "texts = text_splitter.split_text(state_of_the_union)\n",
    "docs = [Document(page_content=t) for t in texts]"
   ]
  },
  {
   "cell_type": "markdown",
   "id": "d94fb374-6c8d-476e-bb10-4d53896b56c7",
   "metadata": {},
   "source": [
    "### 要約"
   ]
  },
  {
   "cell_type": "code",
   "execution_count": 6,
   "id": "971d3008-0910-4be3-b470-7a198743f8ab",
   "metadata": {
    "tags": []
   },
   "outputs": [],
   "source": [
    "template = \"\"\"\n",
    "次の文章を日本語で簡潔に要約してください。\n",
    "文章：{text}\n",
    "\"\"\"\n",
    "\n",
    "PROMPT = PromptTemplate(\n",
    "    input_variables=[\"text\"],\n",
    "    template=template,\n",
    ")\n",
    "chain = load_summarize_chain(llm, chain_type=\"map_reduce\", map_prompt=PROMPT, combine_prompt=PROMPT,verbose=False)\n",
    "\n",
    "summary = chain.run(docs)"
   ]
  },
  {
   "cell_type": "code",
   "execution_count": 18,
   "id": "9a5e1a96-fc85-4cee-b5cd-debf99b4dba8",
   "metadata": {
    "tags": []
   },
   "outputs": [],
   "source": [
    "#summary"
   ]
  },
  {
   "cell_type": "markdown",
   "id": "b6f5a990-e390-41ee-9dc0-9133e11e12a3",
   "metadata": {},
   "source": [
    "### センチメント分析"
   ]
  },
  {
   "cell_type": "code",
   "execution_count": 8,
   "id": "3fd8722e-274c-4f53-8bbe-ce279c29f143",
   "metadata": {
    "tags": []
   },
   "outputs": [],
   "source": [
    "#Amazon Translateで日本語から英語に翻訳\n",
    "def translate_text(text):\n",
    "    translate = boto3.client('translate')\n",
    "    response = translate.translate_text(\n",
    "        Text=text,\n",
    "        SourceLanguageCode='ja',\n",
    "        TargetLanguageCode='en'\n",
    "    )\n",
    "    translated_text = response['TranslatedText']\n",
    "    return translated_text"
   ]
  },
  {
   "cell_type": "code",
   "execution_count": 9,
   "id": "1960a0f4-ed46-4f24-8ee3-4889980617ba",
   "metadata": {
    "tags": []
   },
   "outputs": [],
   "source": [
    "summary_en = translate_text(summary)"
   ]
  },
  {
   "cell_type": "code",
   "execution_count": 19,
   "id": "67a418df-99d2-49e2-b294-19e3d715e3ef",
   "metadata": {
    "tags": []
   },
   "outputs": [],
   "source": [
    "#summary_en"
   ]
  },
  {
   "cell_type": "code",
   "execution_count": 11,
   "id": "beed01ef-4f60-4b07-a0db-978ea0867334",
   "metadata": {
    "tags": []
   },
   "outputs": [],
   "source": [
    "# ProsusAI finbertによりセンチメント分析\n",
    "tokenizer = AutoTokenizer.from_pretrained(\"ProsusAI/finbert\")\n",
    "model = AutoModelForSequenceClassification.from_pretrained(\"ProsusAI/finbert\")"
   ]
  },
  {
   "cell_type": "code",
   "execution_count": 12,
   "id": "4bccd36d-053e-4ebd-b6a6-5a1febd1506f",
   "metadata": {
    "tags": []
   },
   "outputs": [],
   "source": [
    "def finsentiment(text):\n",
    "    inputs = tokenizer(text, return_tensors=\"pt\")\n",
    "    outputs = model(**inputs)\n",
    "    predictions = outputs.logits.softmax(dim=1)\n",
    "    sentiment = predictions.argmax().item()\n",
    "    if sentiment == 0:\n",
    "        sent_text = \"Positive\"\n",
    "    elif sentiment == 1:\n",
    "        sent_text = \"Negative\"\n",
    "    elif sentiment == 2:\n",
    "        sent_text = \"Neutral\"\n",
    "    return predictions[0].tolist(),sent_text"
   ]
  },
  {
   "cell_type": "code",
   "execution_count": 13,
   "id": "297f09b6-069a-4f7e-96a2-4f6351613751",
   "metadata": {
    "tags": []
   },
   "outputs": [
    {
     "data": {
      "text/plain": [
       "([0.8086580634117126, 0.02010824717581272, 0.17123371362686157], 'Positive')"
      ]
     },
     "execution_count": 13,
     "metadata": {},
     "output_type": "execute_result"
    }
   ],
   "source": [
    "finsentiment(summary_en)"
   ]
  },
  {
   "cell_type": "markdown",
   "id": "0724c668-f8b7-4252-b410-446584f1b8a2",
   "metadata": {},
   "source": [
    "### QAボット構築準備"
   ]
  },
  {
   "cell_type": "code",
   "execution_count": 14,
   "id": "19751829-b8a8-4aa0-bbf0-98342c78ebfe",
   "metadata": {
    "tags": []
   },
   "outputs": [],
   "source": [
    "#pdf読み込み\n",
    "loader = PyPDFLoader(pdf_filename)\n",
    "documents = loader.load()"
   ]
  },
  {
   "cell_type": "code",
   "execution_count": 15,
   "id": "0a4a482e-c12b-41b7-ae96-d1cb20c10e79",
   "metadata": {
    "tags": []
   },
   "outputs": [],
   "source": [
    "#テキスト分割\n",
    "text_splitter = RecursiveCharacterTextSplitter(chunk_size=100, chunk_overlap=0)\n",
    "texts = text_splitter.split_documents(documents)\n",
    "#ベクトル化＆Chroma(ベクター用DB）\n",
    "embeddings = OpenAIEmbeddings(chunk_size=1)\n",
    "vectordb = Chroma.from_documents(documents=texts, embedding=embeddings)\n",
    "#ベクターDB検索gpt35\n",
    "qa = RetrievalQA.from_chain_type(llm = AzureChatOpenAI( openai_api_version=OPEN_API_VERSION_gpt35,deployment_name=DEPLOYMENT_NAME_gpt35,temperature=0), chain_type=\"stuff\", retriever=vectordb.as_retriever())"
   ]
  },
  {
   "cell_type": "markdown",
   "id": "01a77051-e8a5-4e2f-867c-1ac6d5a95a6b",
   "metadata": {},
   "source": [
    "### Q&A"
   ]
  },
  {
   "cell_type": "code",
   "execution_count": 16,
   "id": "013cfe50-99db-482d-92f9-9b4235147ee8",
   "metadata": {
    "tags": []
   },
   "outputs": [],
   "source": [
    "#プロンプト定義\n",
    "prompt_template = \"\"\"Use the following pieces of context to answer the question at the end. If you don't know the answer, just say that you don't know, don't try to make up an answer.\n",
    "\n",
    "{context}\n",
    "\n",
    "Question: {question}\n",
    "Answer in Japanese:\"\"\"\n",
    "PROMPT = PromptTemplate(\n",
    "    template=prompt_template, input_variables=[\"context\", \"question\"]\n",
    ")"
   ]
  },
  {
   "cell_type": "code",
   "execution_count": 20,
   "id": "42e65351-9270-4fc3-b91f-e802b6868933",
   "metadata": {
    "tags": []
   },
   "outputs": [],
   "source": [
    "query = \"インフレ分析の観点でこの文書から低インフレ、高インフレのどっちかを評価して。\"\n",
    "#print(qa.run(query))"
   ]
  },
  {
   "cell_type": "code",
   "execution_count": null,
   "id": "43232a04-e5dc-4cff-88a5-d3556c59d6e8",
   "metadata": {},
   "outputs": [],
   "source": []
  }
 ],
 "metadata": {
  "kernelspec": {
   "display_name": "conda_python3",
   "language": "python",
   "name": "conda_python3"
  },
  "language_info": {
   "codemirror_mode": {
    "name": "ipython",
    "version": 3
   },
   "file_extension": ".py",
   "mimetype": "text/x-python",
   "name": "python",
   "nbconvert_exporter": "python",
   "pygments_lexer": "ipython3",
   "version": "3.10.8"
  }
 },
 "nbformat": 4,
 "nbformat_minor": 5
}
